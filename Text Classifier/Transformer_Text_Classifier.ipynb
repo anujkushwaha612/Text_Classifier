{
  "cells": [
    {
      "cell_type": "code",
      "execution_count": 12,
      "metadata": {
        "colab": {
          "base_uri": "https://localhost:8080/",
          "height": 423
        },
        "id": "gHLnftNuI211",
        "outputId": "420a8666-6802-45d9-f22d-8be9fd2dd6b8"
      },
      "outputs": [
        {
          "data": {
            "text/html": [
              "<div>\n",
              "<style scoped>\n",
              "    .dataframe tbody tr th:only-of-type {\n",
              "        vertical-align: middle;\n",
              "    }\n",
              "\n",
              "    .dataframe tbody tr th {\n",
              "        vertical-align: top;\n",
              "    }\n",
              "\n",
              "    .dataframe thead th {\n",
              "        text-align: right;\n",
              "    }\n",
              "</style>\n",
              "<table border=\"1\" class=\"dataframe\">\n",
              "  <thead>\n",
              "    <tr style=\"text-align: right;\">\n",
              "      <th></th>\n",
              "      <th>Category</th>\n",
              "      <th>Text</th>\n",
              "    </tr>\n",
              "  </thead>\n",
              "  <tbody>\n",
              "    <tr>\n",
              "      <th>0</th>\n",
              "      <td>Accountant</td>\n",
              "      <td>education omba executive leadership university...</td>\n",
              "    </tr>\n",
              "    <tr>\n",
              "      <th>1</th>\n",
              "      <td>Accountant</td>\n",
              "      <td>howard gerrard accountant deyjobcom birmingham...</td>\n",
              "    </tr>\n",
              "    <tr>\n",
              "      <th>2</th>\n",
              "      <td>Accountant</td>\n",
              "      <td>kevin frank senior accountant inforesumekraftc...</td>\n",
              "    </tr>\n",
              "    <tr>\n",
              "      <th>3</th>\n",
              "      <td>Accountant</td>\n",
              "      <td>place birth nationality olivia ogilvy accounta...</td>\n",
              "    </tr>\n",
              "    <tr>\n",
              "      <th>4</th>\n",
              "      <td>Accountant</td>\n",
              "      <td>stephen greet cpa senior accountant 9 year exp...</td>\n",
              "    </tr>\n",
              "    <tr>\n",
              "      <th>...</th>\n",
              "      <td>...</td>\n",
              "      <td>...</td>\n",
              "    </tr>\n",
              "    <tr>\n",
              "      <th>13384</th>\n",
              "      <td>Web Designing</td>\n",
              "      <td>jessica claire montgomery street san francisco...</td>\n",
              "    </tr>\n",
              "    <tr>\n",
              "      <th>13385</th>\n",
              "      <td>Web Designing</td>\n",
              "      <td>jessica claire montgomery street san francisco...</td>\n",
              "    </tr>\n",
              "    <tr>\n",
              "      <th>13386</th>\n",
              "      <td>Web Designing</td>\n",
              "      <td>summary jessica claire 100 montgomery st 10th ...</td>\n",
              "    </tr>\n",
              "    <tr>\n",
              "      <th>13387</th>\n",
              "      <td>Web Designing</td>\n",
              "      <td>jessica claire montgomery street san francisco...</td>\n",
              "    </tr>\n",
              "    <tr>\n",
              "      <th>13388</th>\n",
              "      <td>Web Designing</td>\n",
              "      <td>websites portfolios profiles professional summ...</td>\n",
              "    </tr>\n",
              "  </tbody>\n",
              "</table>\n",
              "<p>13389 rows × 2 columns</p>\n",
              "</div>"
            ],
            "text/plain": [
              "            Category                                               Text\n",
              "0         Accountant  education omba executive leadership university...\n",
              "1         Accountant  howard gerrard accountant deyjobcom birmingham...\n",
              "2         Accountant  kevin frank senior accountant inforesumekraftc...\n",
              "3         Accountant  place birth nationality olivia ogilvy accounta...\n",
              "4         Accountant  stephen greet cpa senior accountant 9 year exp...\n",
              "...              ...                                                ...\n",
              "13384  Web Designing  jessica claire montgomery street san francisco...\n",
              "13385  Web Designing  jessica claire montgomery street san francisco...\n",
              "13386  Web Designing  summary jessica claire 100 montgomery st 10th ...\n",
              "13387  Web Designing  jessica claire montgomery street san francisco...\n",
              "13388  Web Designing  websites portfolios profiles professional summ...\n",
              "\n",
              "[13389 rows x 2 columns]"
            ]
          },
          "execution_count": 12,
          "metadata": {},
          "output_type": "execute_result"
        }
      ],
      "source": [
        "import numpy as np\n",
        "import pandas as pd\n",
        "\n",
        "df = pd.read_csv('train.csv')\n",
        "df"
      ]
    },
    {
      "cell_type": "markdown",
      "metadata": {},
      "source": [
        "**using specific numpy library because when i previously tried to import gensim the numpy version was causing the error it mentioned that the version isn't compatible and error suggested this version**"
      ]
    },
    {
      "cell_type": "code",
      "execution_count": 3,
      "metadata": {
        "colab": {
          "base_uri": "https://localhost:8080/"
        },
        "id": "3s0t5gCWPd5l",
        "outputId": "083b65bc-fddb-4f16-f8f6-9fc20d8b1b9a"
      },
      "outputs": [
        {
          "name": "stdout",
          "output_type": "stream",
          "text": [
            "Collecting numpy==1.26.4\n",
            "  Downloading numpy-1.26.4-cp312-cp312-win_amd64.whl.metadata (61 kB)\n",
            "Collecting gensim\n",
            "  Downloading gensim-4.3.3-cp312-cp312-win_amd64.whl.metadata (8.2 kB)\n",
            "Collecting scipy<1.14.0,>=1.7.0 (from gensim)\n",
            "  Downloading scipy-1.13.1-cp312-cp312-win_amd64.whl.metadata (60 kB)\n",
            "Collecting smart-open>=1.8.1 (from gensim)\n",
            "  Downloading smart_open-7.1.0-py3-none-any.whl.metadata (24 kB)\n",
            "Requirement already satisfied: wrapt in c:\\users\\asus\\appdata\\local\\programs\\python\\python312\\lib\\site-packages (from smart-open>=1.8.1->gensim) (1.17.0)\n",
            "Downloading numpy-1.26.4-cp312-cp312-win_amd64.whl (15.5 MB)\n",
            "   ---------------------------------------- 0.0/15.5 MB ? eta -:--:--\n",
            "   ------ --------------------------------- 2.6/15.5 MB 18.9 MB/s eta 0:00:01\n",
            "   ---------- ----------------------------- 4.2/15.5 MB 16.8 MB/s eta 0:00:01\n",
            "   -------------- ------------------------- 5.5/15.5 MB 9.6 MB/s eta 0:00:02\n",
            "   ----------------- ---------------------- 6.8/15.5 MB 8.6 MB/s eta 0:00:02\n",
            "   ------------------- -------------------- 7.6/15.5 MB 7.8 MB/s eta 0:00:02\n",
            "   ---------------------- ----------------- 8.9/15.5 MB 7.2 MB/s eta 0:00:01\n",
            "   ------------------------- -------------- 10.0/15.5 MB 6.9 MB/s eta 0:00:01\n",
            "   --------------------------- ------------ 10.7/15.5 MB 6.6 MB/s eta 0:00:01\n",
            "   ------------------------------- -------- 12.1/15.5 MB 6.5 MB/s eta 0:00:01\n",
            "   --------------------------------- ------ 12.8/15.5 MB 6.3 MB/s eta 0:00:01\n",
            "   ----------------------------------- ---- 13.9/15.5 MB 6.1 MB/s eta 0:00:01\n",
            "   ---------------------------------------  15.2/15.5 MB 6.1 MB/s eta 0:00:01\n",
            "   ---------------------------------------- 15.5/15.5 MB 6.0 MB/s eta 0:00:00\n",
            "Downloading gensim-4.3.3-cp312-cp312-win_amd64.whl (24.0 MB)\n",
            "   ---------------------------------------- 0.0/24.0 MB ? eta -:--:--\n",
            "   - -------------------------------------- 1.0/24.0 MB 6.3 MB/s eta 0:00:04\n",
            "   --- ------------------------------------ 1.8/24.0 MB 6.3 MB/s eta 0:00:04\n",
            "   --- ------------------------------------ 2.4/24.0 MB 3.7 MB/s eta 0:00:06\n",
            "   ------- -------------------------------- 4.5/24.0 MB 5.5 MB/s eta 0:00:04\n",
            "   --------- ------------------------------ 5.5/24.0 MB 5.3 MB/s eta 0:00:04\n",
            "   ---------- ----------------------------- 6.3/24.0 MB 5.1 MB/s eta 0:00:04\n",
            "   ------------ --------------------------- 7.3/24.0 MB 5.1 MB/s eta 0:00:04\n",
            "   ------------- -------------------------- 8.4/24.0 MB 5.1 MB/s eta 0:00:04\n",
            "   --------------- ------------------------ 9.4/24.0 MB 5.0 MB/s eta 0:00:03\n",
            "   ----------------- ---------------------- 10.2/24.0 MB 4.9 MB/s eta 0:00:03\n",
            "   ------------------ --------------------- 11.3/24.0 MB 4.9 MB/s eta 0:00:03\n",
            "   -------------------- ------------------- 12.3/24.0 MB 5.0 MB/s eta 0:00:03\n",
            "   ---------------------- ----------------- 13.6/24.0 MB 5.0 MB/s eta 0:00:03\n",
            "   ------------------------ --------------- 14.7/24.0 MB 5.0 MB/s eta 0:00:02\n",
            "   -------------------------- ------------- 15.7/24.0 MB 5.0 MB/s eta 0:00:02\n",
            "   --------------------------- ------------ 16.8/24.0 MB 5.0 MB/s eta 0:00:02\n",
            "   ----------------------------- ---------- 17.8/24.0 MB 5.0 MB/s eta 0:00:02\n",
            "   ------------------------------- -------- 18.9/24.0 MB 5.0 MB/s eta 0:00:02\n",
            "   -------------------------------- ------- 19.7/24.0 MB 5.0 MB/s eta 0:00:01\n",
            "   ---------------------------------- ----- 20.7/24.0 MB 5.0 MB/s eta 0:00:01\n",
            "   ------------------------------------ --- 21.8/24.0 MB 5.0 MB/s eta 0:00:01\n",
            "   -------------------------------------- - 23.1/24.0 MB 5.0 MB/s eta 0:00:01\n",
            "   ---------------------------------------  23.9/24.0 MB 5.0 MB/s eta 0:00:01\n",
            "   ---------------------------------------- 24.0/24.0 MB 4.9 MB/s eta 0:00:00\n",
            "Downloading scipy-1.13.1-cp312-cp312-win_amd64.whl (45.9 MB)\n",
            "   ---------------------------------------- 0.0/45.9 MB ? eta -:--:--\n",
            "    --------------------------------------- 1.0/45.9 MB 5.6 MB/s eta 0:00:08\n",
            "   - -------------------------------------- 2.1/45.9 MB 6.2 MB/s eta 0:00:08\n",
            "   -- ------------------------------------- 3.1/45.9 MB 6.2 MB/s eta 0:00:07\n",
            "   -- ------------------------------------- 3.1/45.9 MB 6.2 MB/s eta 0:00:07\n",
            "   ---- ----------------------------------- 5.5/45.9 MB 5.5 MB/s eta 0:00:08\n",
            "   ----- ---------------------------------- 6.6/45.9 MB 5.4 MB/s eta 0:00:08\n",
            "   ------ --------------------------------- 7.3/45.9 MB 5.3 MB/s eta 0:00:08\n",
            "   ------- -------------------------------- 8.4/45.9 MB 5.1 MB/s eta 0:00:08\n",
            "   -------- ------------------------------- 9.4/45.9 MB 5.1 MB/s eta 0:00:08\n",
            "   --------- ------------------------------ 10.5/45.9 MB 5.0 MB/s eta 0:00:08\n",
            "   --------- ------------------------------ 11.3/45.9 MB 5.0 MB/s eta 0:00:07\n",
            "   ---------- ----------------------------- 12.6/45.9 MB 5.0 MB/s eta 0:00:07\n",
            "   ------------ --------------------------- 13.9/45.9 MB 5.1 MB/s eta 0:00:07\n",
            "   ------------ --------------------------- 14.4/45.9 MB 5.0 MB/s eta 0:00:07\n",
            "   ------------- -------------------------- 16.0/45.9 MB 5.1 MB/s eta 0:00:06\n",
            "   -------------- ------------------------- 16.8/45.9 MB 5.0 MB/s eta 0:00:06\n",
            "   --------------- ------------------------ 17.8/45.9 MB 5.0 MB/s eta 0:00:06\n",
            "   ---------------- ----------------------- 18.9/45.9 MB 5.0 MB/s eta 0:00:06\n",
            "   ---------------- ----------------------- 19.1/45.9 MB 5.0 MB/s eta 0:00:06\n",
            "   ----------------- ---------------------- 19.9/45.9 MB 4.7 MB/s eta 0:00:06\n",
            "   ------------------ --------------------- 20.7/45.9 MB 4.7 MB/s eta 0:00:06\n",
            "   ------------------ --------------------- 21.8/45.9 MB 4.7 MB/s eta 0:00:06\n",
            "   ------------------- -------------------- 22.8/45.9 MB 4.8 MB/s eta 0:00:05\n",
            "   --------------------- ------------------ 24.1/45.9 MB 4.8 MB/s eta 0:00:05\n",
            "   ---------------------- ----------------- 25.7/45.9 MB 4.9 MB/s eta 0:00:05\n",
            "   ----------------------- ---------------- 26.7/45.9 MB 5.0 MB/s eta 0:00:04\n",
            "   ------------------------ --------------- 28.3/45.9 MB 5.0 MB/s eta 0:00:04\n",
            "   ------------------------- -------------- 29.1/45.9 MB 5.0 MB/s eta 0:00:04\n",
            "   -------------------------- ------------- 30.1/45.9 MB 5.0 MB/s eta 0:00:04\n",
            "   --------------------------- ------------ 31.2/45.9 MB 4.9 MB/s eta 0:00:03\n",
            "   --------------------------- ------------ 32.0/45.9 MB 5.0 MB/s eta 0:00:03\n",
            "   ---------------------------- ----------- 33.0/45.9 MB 4.9 MB/s eta 0:00:03\n",
            "   ----------------------------- ---------- 34.1/45.9 MB 4.9 MB/s eta 0:00:03\n",
            "   ------------------------------ --------- 34.9/45.9 MB 4.9 MB/s eta 0:00:03\n",
            "   ------------------------------- -------- 36.2/45.9 MB 4.9 MB/s eta 0:00:02\n",
            "   -------------------------------- ------- 37.5/45.9 MB 5.0 MB/s eta 0:00:02\n",
            "   --------------------------------- ------ 38.3/45.9 MB 4.9 MB/s eta 0:00:02\n",
            "   ---------------------------------- ----- 39.6/45.9 MB 5.0 MB/s eta 0:00:02\n",
            "   ----------------------------------- ---- 40.6/45.9 MB 4.9 MB/s eta 0:00:02\n",
            "   ------------------------------------ --- 41.7/45.9 MB 4.9 MB/s eta 0:00:01\n",
            "   ------------------------------------ --- 42.5/45.9 MB 4.9 MB/s eta 0:00:01\n",
            "   ------------------------------------- -- 43.5/45.9 MB 4.9 MB/s eta 0:00:01\n",
            "   -------------------------------------- - 44.6/45.9 MB 4.9 MB/s eta 0:00:01\n",
            "   ---------------------------------------  45.6/45.9 MB 4.9 MB/s eta 0:00:01\n",
            "   ---------------------------------------- 45.9/45.9 MB 4.9 MB/s eta 0:00:00\n",
            "Downloading smart_open-7.1.0-py3-none-any.whl (61 kB)\n",
            "Installing collected packages: smart-open, numpy, scipy, gensim\n",
            "  Attempting uninstall: numpy\n",
            "    Found existing installation: numpy 2.0.2\n",
            "    Uninstalling numpy-2.0.2:\n",
            "      Successfully uninstalled numpy-2.0.2\n",
            "  Attempting uninstall: scipy\n",
            "    Found existing installation: scipy 1.14.1\n",
            "    Uninstalling scipy-1.14.1:\n",
            "      Successfully uninstalled scipy-1.14.1\n",
            "Successfully installed gensim-4.3.3 numpy-1.26.4 scipy-1.13.1 smart-open-7.1.0\n",
            "Note: you may need to restart the kernel to use updated packages.\n"
          ]
        },
        {
          "name": "stderr",
          "output_type": "stream",
          "text": [
            "  WARNING: Failed to remove contents in a temporary directory 'C:\\Users\\ASUS\\AppData\\Local\\Programs\\Python\\Python312\\Lib\\site-packages\\~umpy.libs'.\n",
            "  You can safely remove it manually.\n",
            "  WARNING: Failed to remove contents in a temporary directory 'C:\\Users\\ASUS\\AppData\\Local\\Programs\\Python\\Python312\\Lib\\site-packages\\~umpy'.\n",
            "  You can safely remove it manually.\n",
            "\n",
            "[notice] A new release of pip is available: 24.3.1 -> 25.1.1\n",
            "[notice] To update, run: python.exe -m pip install --upgrade pip\n"
          ]
        }
      ],
      "source": [
        "%pip install --upgrade numpy==1.26.4 gensim"
      ]
    },
    {
      "cell_type": "code",
      "execution_count": null,
      "metadata": {
        "id": "Wcwjwk-EQAc1"
      },
      "outputs": [],
      "source": [
        "import gensim"
      ]
    },
    {
      "cell_type": "markdown",
      "metadata": {},
      "source": [
        "### Loading Pre-trained Word2Vec Embeddings\n",
        "\n",
        "loading the pre-trained Word2Vec model `word2vec-google-news-300` from the `gensim` library’s dataset API.  \n",
        "This model contains 300-dimensional embeddings trained on Google News data"
      ]
    },
    {
      "cell_type": "code",
      "execution_count": null,
      "metadata": {
        "colab": {
          "base_uri": "https://localhost:8080/"
        },
        "id": "R2TIMsuvQFmg",
        "outputId": "0804cb50-931e-44c6-d787-e713ebcce77a"
      },
      "outputs": [
        {
          "name": "stdout",
          "output_type": "stream",
          "text": [
            "[==================================================] 100.0% 1662.8/1662.8MB downloaded\n"
          ]
        }
      ],
      "source": [
        "import gensim.downloader as api\n",
        "word2vec = api.load('word2vec-google-news-300')\n",
        "embedding_dim = word2vec.vector_size"
      ]
    },
    {
      "cell_type": "code",
      "execution_count": 3,
      "metadata": {
        "colab": {
          "base_uri": "https://localhost:8080/"
        },
        "id": "1v0IBR84Qq8r",
        "outputId": "14c1c4a7-84c6-4836-cf0e-dcee8d1df2f1"
      },
      "outputs": [
        {
          "name": "stdout",
          "output_type": "stream",
          "text": [
            "300\n"
          ]
        }
      ],
      "source": [
        "print(embedding_dim)"
      ]
    },
    {
      "cell_type": "code",
      "execution_count": 21,
      "metadata": {
        "id": "YBWwlV1_75ZH"
      },
      "outputs": [],
      "source": [
        "embed_dim = 300\n",
        "num_heads = 4\n",
        "ff_hidden_dim = 256\n",
        "num_classes = 43\n",
        "num_layers = 2\n",
        "max_len = 100\n",
        "num_epochs = 12\n",
        "batch_size = 32\n",
        "learning_rate = 5e-4"
      ]
    },
    {
      "cell_type": "markdown",
      "metadata": {},
      "source": [
        "### Tokenizing Text and Converting to Embeddings\n",
        "\n",
        "- `tokenize(text)`: Converts the input text to lowercase and splits it into words (tokens).\n",
        "- `text_to_embedding(text, word2vec, max_len)`:  \n",
        "  This converts a given text into a fixed-length sequence of word vectors using the pre-trained Word2Vec embeddings.  "
      ]
    },
    {
      "cell_type": "code",
      "execution_count": 22,
      "metadata": {
        "id": "W6YojY9VYN4w"
      },
      "outputs": [],
      "source": [
        "def tokenize(text):\n",
        "    return text.lower().split()\n",
        "\n",
        "def text_to_embedding(text, word2vec, max_len):\n",
        "    tokens = tokenize(text)\n",
        "    vectors = []\n",
        "    for token in tokens:\n",
        "        if token in word2vec:\n",
        "            vectors.append(word2vec[token])\n",
        "        else:\n",
        "            vectors.append(np.zeros(embedding_dim))\n",
        "    if len(vectors) < max_len:\n",
        "        vectors += [np.zeros(embedding_dim)] * (max_len - len(vectors))\n",
        "    else:\n",
        "        vectors = vectors[:max_len]\n",
        "    return np.array(vectors)"
      ]
    },
    {
      "cell_type": "code",
      "execution_count": 23,
      "metadata": {
        "id": "UXqSl50vYSQz"
      },
      "outputs": [],
      "source": [
        "import torch\n",
        "import math\n",
        "import torch.nn as nn\n",
        "\n",
        "class PositionalEncoding(nn.Module):\n",
        "    def __init__(self, d_model, max_len=512):\n",
        "        super().__init__()\n",
        "\n",
        "        # Create a matrix of shape (max_len, d_model) filled with zeros\n",
        "        pe = torch.zeros(max_len, d_model)\n",
        "\n",
        "        # Create a tensor with position indices (0, 1, 2, ..., max_len-1)\n",
        "        position = torch.arange(0, max_len).unsqueeze(1)\n",
        "\n",
        "        # Compute the division term (different frequencies for each dimension)\n",
        "        div_term = torch.exp(torch.arange(0, d_model, 2) * (-math.log(10000.0) / d_model))\n",
        "\n",
        "        # Apply sin to even indices in the embedding dimension\n",
        "        for i in range(0, d_model, 2):\n",
        "            pe[:, i] = torch.sin(position[:, 0] * div_term[i // 2])\n",
        "\n",
        "        # Apply cos to odd indices in the embedding dimension\n",
        "        for i in range(1, d_model, 2):\n",
        "            pe[:, i] = torch.cos(position[:, 0] * div_term[i // 2])\n",
        "\n",
        "        # Add an extra batch dimension for broadcasting during addition\n",
        "        self.pe = pe.unsqueeze(0)\n",
        "\n",
        "    def forward(self, x):\n",
        "        # Add positional encoding to the input embeddings\n",
        "        x = x + self.pe[:, :x.size(1)].to(x.device)\n",
        "        return x\n"
      ]
    },
    {
      "cell_type": "code",
      "execution_count": 24,
      "metadata": {
        "id": "HaQc9S_FcqxD"
      },
      "outputs": [],
      "source": [
        "import torch\n",
        "import torch.nn as nn\n",
        "import torch.nn.functional as F\n",
        "import math\n",
        "\n",
        "class MultiHeadSelfAttention(nn.Module):\n",
        "    def __init__(self, embed_dim, num_heads):\n",
        "        super().__init__()\n",
        "\n",
        "        # Make sure embed_dim is divisible by num_heads\n",
        "        assert embed_dim % num_heads == 0\n",
        "\n",
        "        self.embed_dim = embed_dim\n",
        "        self.num_heads = num_heads\n",
        "        self.head_dim = embed_dim // num_heads\n",
        "\n",
        "        # Linear layer to project input into Q, K, and V\n",
        "        self.qkv_proj = nn.Linear(embed_dim, embed_dim * 3)\n",
        "\n",
        "        # Linear layer to project concatenated head outputs back to embed_dim\n",
        "        self.out_proj = nn.Linear(embed_dim, embed_dim)\n",
        "\n",
        "    def forward(self, x):\n",
        "        batch_size, seq_len, embed_dim = x.size()\n",
        "\n",
        "        # Project input into Q, K, V\n",
        "        # Output shape: (batch_size, seq_len, embed_dim * 3)\n",
        "        qkv = self.qkv_proj(x)\n",
        "\n",
        "        # Split into 3 parts along the last dimension (Q, K, V)\n",
        "        qkv = qkv.reshape(batch_size, seq_len, 3, self.num_heads, self.head_dim)\n",
        "\n",
        "        # Rearrange dimensions for attention computation\n",
        "        # Shape: (3, batch_size, num_heads, seq_len, head_dim)\n",
        "        qkv = qkv.permute(2, 0, 3, 1, 4)\n",
        "\n",
        "        # Unpack into Q, K, V\n",
        "        Q, K, V = qkv[0], qkv[1], qkv[2]\n",
        "\n",
        "        # Compute scaled dot-product attention scores\n",
        "        # Shape: (batch_size, num_heads, seq_len, seq_len)\n",
        "        attn_scores = torch.matmul(Q, K.transpose(-2, -1)) / math.sqrt(self.head_dim)\n",
        "\n",
        "        attn_weights = F.softmax(attn_scores, dim=-1)\n",
        "\n",
        "        attn_output = torch.matmul(attn_weights, V)\n",
        "        attn_output = attn_output.permute(0, 2, 1, 3)\n",
        "        attn_output = attn_output.reshape(batch_size, seq_len, embed_dim)\n",
        "\n",
        "        output = self.out_proj(attn_output)\n",
        "\n",
        "        return output\n"
      ]
    },
    {
      "cell_type": "markdown",
      "metadata": {
        "id": "WGULx1QxctHU"
      },
      "source": [
        "**Why permute to (2, 0, 3, 1, 4) and then later to something else?**\n",
        "\n",
        "\n",
        "1.   First permute:\n",
        "```python\n",
        "qkv = qkv.permute(2, 0, 3, 1, 4)\n",
        "```\n",
        "- From `(batch_size, seq_len, 3, num_heads, head_dim)` to `(3, batch_size, num_heads, seq_len, head_dim)`\n",
        "\n",
        "- Allows separating Q, K, V by indexing along first dimension\n",
        "2.   Later permute:\n",
        "```python\n",
        "attn_output = attn_output.permute(0, 2, 1, 3)\n",
        "```\n",
        "- After attention calculation, `attn_output` shape is `(batch_size, num_heads, seq_len, head_dim)`\n",
        "\n",
        "- This permutes to `(batch_size, seq_len, num_heads, head_dim)` for concatenating heads along the embedding dimension\n",
        "\n",
        "\n"
      ]
    },
    {
      "cell_type": "markdown",
      "metadata": {},
      "source": [
        "### Transformer Block\n",
        "\n",
        "This defines a single encoder block of a Transformer model. It has:\n",
        "\n",
        "- **Multi-head self-attention:** To let the model focus on different parts of the input sequence simultaneously.\n",
        "- **Layer normalization:** Applied after adding the attention output back to the input (residual connection).\n",
        "- **Feedforward network:** A two-layer fully connected network with ReLU activation in between.\n",
        "- **Second layer normalization:** After adding the feedforward output back (another residual connection).\n",
        "- **Dropout:** Applied after attention and feedforward to reduce overfitting."
      ]
    },
    {
      "cell_type": "code",
      "execution_count": 26,
      "metadata": {
        "id": "Rf1SLkhdgPjL"
      },
      "outputs": [],
      "source": [
        "class TransformerBlock(nn.Module):\n",
        "    def __init__(self, embed_dim, num_heads, ff_hidden_dim):\n",
        "        super().__init__()\n",
        "\n",
        "        # Multi-head attention\n",
        "        self.attention = nn.MultiheadAttention(embed_dim, num_heads, batch_first=True)\n",
        "\n",
        "        # Feed-forward network\n",
        "        self.ff = nn.Sequential(\n",
        "            nn.Linear(embed_dim, ff_hidden_dim),\n",
        "            nn.ReLU(),\n",
        "            nn.Linear(ff_hidden_dim, embed_dim)\n",
        "        )\n",
        "\n",
        "        # LayerNorm for stability\n",
        "        self.norm1 = nn.LayerNorm(embed_dim)\n",
        "        self.norm2 = nn.LayerNorm(embed_dim)\n",
        "\n",
        "    def forward(self, x):\n",
        "        # Multi-head Attention with residual connection\n",
        "        attn_output, _ = self.attention(x, x, x)\n",
        "        x = self.norm1(x + attn_output)\n",
        "\n",
        "        # Feed-forward network with residual connection\n",
        "        ff_output = self.ff(x)\n",
        "        x = self.norm2(x + ff_output)\n",
        "\n",
        "        return x"
      ]
    },
    {
      "cell_type": "markdown",
      "metadata": {},
      "source": [
        "### Transformer Classifier Model\n",
        "\n",
        "This class builds a Transformer-based text classifier with the following parts:\n",
        "\n",
        "- **Positional Encoding:** Adds position information to the input embeddings so the model knows the order of tokens.\n",
        "- **Multiple Transformer Blocks:** A stack of Transformer encoder blocks (defined earlier) to process the input sequence.\n",
        "- **Global Average Pooling:** Averages the output embeddings across all tokens to get a single vector representing the whole input.\n",
        "- **Dropout:** Applied before the classifier to reduce overfitting.\n",
        "- **Classification Layer:** A linear layer that outputs logits for each class."
      ]
    },
    {
      "cell_type": "code",
      "execution_count": null,
      "metadata": {
        "id": "hCmx4xrsjBs3"
      },
      "outputs": [],
      "source": [
        "class TransformerClassifier(nn.Module):\n",
        "    def __init__(self, embed_dim, num_heads, ff_hidden_dim, num_classes, num_layers, max_len):\n",
        "        super().__init__()\n",
        "\n",
        "        # Positional encoding\n",
        "        self.pos_encoder = PositionalEncoding(embed_dim, max_len)\n",
        "\n",
        "        # Stack multiple Transformer blocks\n",
        "        self.layers = nn.ModuleList([\n",
        "            TransformerBlock(embed_dim, num_heads, ff_hidden_dim)\n",
        "            for _ in range(num_layers)\n",
        "        ])\n",
        "        self.dropout = nn.Dropout(0.3)\n",
        "        # Final classification layer\n",
        "        self.classifier = nn.Linear(embed_dim, num_classes)\n",
        "\n",
        "    def forward(self, x):\n",
        "        # 1️⃣ Add positional encoding\n",
        "        x = self.pos_encoder(x)\n",
        "\n",
        "        # 2️⃣ Pass through each Transformer block\n",
        "        for layer in self.layers:\n",
        "            x = layer(x)\n",
        "\n",
        "        # 3️⃣ Global average pooling over sequence dimension (dim=1)\n",
        "        x = x.mean(dim=1)\n",
        "        x = self.dropout(x)\n",
        "        logits = self.classifier(x)\n",
        "\n",
        "        return logits"
      ]
    },
    {
      "cell_type": "code",
      "execution_count": 13,
      "metadata": {
        "colab": {
          "base_uri": "https://localhost:8080/"
        },
        "id": "dHtBif6bjkGU",
        "outputId": "56388af2-051b-4876-f958-239733406870"
      },
      "outputs": [
        {
          "name": "stdout",
          "output_type": "stream",
          "text": [
            "\n",
            "Label Encoding Mapping:\n",
            "Accountant → 0\n",
            "Advocate → 1\n",
            "Agriculture → 2\n",
            "Apparel → 3\n",
            "Architecture → 4\n",
            "Arts → 5\n",
            "Automobile → 6\n",
            "Aviation → 7\n",
            "BPO → 8\n",
            "Banking → 9\n",
            "Blockchain → 10\n",
            "Building and Construction → 11\n",
            "Business Analyst → 12\n",
            "Civil Engineer → 13\n",
            "Consultant → 14\n",
            "Data Science → 15\n",
            "Database → 16\n",
            "Designing → 17\n",
            "DevOps → 18\n",
            "Digital Media → 19\n",
            "DotNet Developer → 20\n",
            "ETL Developer → 21\n",
            "Education → 22\n",
            "Electrical Engineering → 23\n",
            "Finance → 24\n",
            "Food and Beverages → 25\n",
            "Health and Fitness → 26\n",
            "Human Resources → 27\n",
            "Information Technology → 28\n",
            "Java Developer → 29\n",
            "Management → 30\n",
            "Mechanical Engineer → 31\n",
            "Network Security Engineer → 32\n",
            "Operations Manager → 33\n",
            "PMO → 34\n",
            "Public Relations → 35\n",
            "Python Developer → 36\n",
            "React Developer → 37\n",
            "SAP Developer → 38\n",
            "SQL Developer → 39\n",
            "Sales → 40\n",
            "Testing → 41\n",
            "Web Designing → 42\n"
          ]
        }
      ],
      "source": [
        "from sklearn.preprocessing import LabelEncoder\n",
        "\n",
        "label_encoder = LabelEncoder()\n",
        "\n",
        "df['label'] = label_encoder.fit_transform(df['Category'])\n",
        "\n",
        "print(\"\\nLabel Encoding Mapping:\")\n",
        "for i, category in enumerate(label_encoder.classes_):\n",
        "    print(f\"{category} → {i}\")"
      ]
    },
    {
      "cell_type": "code",
      "execution_count": 14,
      "metadata": {
        "colab": {
          "base_uri": "https://localhost:8080/",
          "height": 206
        },
        "id": "arS5m66Mlct7",
        "outputId": "5a4bca9b-7564-42f1-cc4c-d5349714c974"
      },
      "outputs": [
        {
          "data": {
            "text/html": [
              "<div>\n",
              "<style scoped>\n",
              "    .dataframe tbody tr th:only-of-type {\n",
              "        vertical-align: middle;\n",
              "    }\n",
              "\n",
              "    .dataframe tbody tr th {\n",
              "        vertical-align: top;\n",
              "    }\n",
              "\n",
              "    .dataframe thead th {\n",
              "        text-align: right;\n",
              "    }\n",
              "</style>\n",
              "<table border=\"1\" class=\"dataframe\">\n",
              "  <thead>\n",
              "    <tr style=\"text-align: right;\">\n",
              "      <th></th>\n",
              "      <th>Category</th>\n",
              "      <th>Text</th>\n",
              "      <th>label</th>\n",
              "    </tr>\n",
              "  </thead>\n",
              "  <tbody>\n",
              "    <tr>\n",
              "      <th>0</th>\n",
              "      <td>Accountant</td>\n",
              "      <td>education omba executive leadership university...</td>\n",
              "      <td>0</td>\n",
              "    </tr>\n",
              "    <tr>\n",
              "      <th>1</th>\n",
              "      <td>Accountant</td>\n",
              "      <td>howard gerrard accountant deyjobcom birmingham...</td>\n",
              "      <td>0</td>\n",
              "    </tr>\n",
              "    <tr>\n",
              "      <th>2</th>\n",
              "      <td>Accountant</td>\n",
              "      <td>kevin frank senior accountant inforesumekraftc...</td>\n",
              "      <td>0</td>\n",
              "    </tr>\n",
              "    <tr>\n",
              "      <th>3</th>\n",
              "      <td>Accountant</td>\n",
              "      <td>place birth nationality olivia ogilvy accounta...</td>\n",
              "      <td>0</td>\n",
              "    </tr>\n",
              "    <tr>\n",
              "      <th>4</th>\n",
              "      <td>Accountant</td>\n",
              "      <td>stephen greet cpa senior accountant 9 year exp...</td>\n",
              "      <td>0</td>\n",
              "    </tr>\n",
              "  </tbody>\n",
              "</table>\n",
              "</div>"
            ],
            "text/plain": [
              "     Category                                               Text  label\n",
              "0  Accountant  education omba executive leadership university...      0\n",
              "1  Accountant  howard gerrard accountant deyjobcom birmingham...      0\n",
              "2  Accountant  kevin frank senior accountant inforesumekraftc...      0\n",
              "3  Accountant  place birth nationality olivia ogilvy accounta...      0\n",
              "4  Accountant  stephen greet cpa senior accountant 9 year exp...      0"
            ]
          },
          "execution_count": 14,
          "metadata": {},
          "output_type": "execute_result"
        }
      ],
      "source": [
        "df.head()"
      ]
    },
    {
      "cell_type": "code",
      "execution_count": null,
      "metadata": {
        "colab": {
          "base_uri": "https://localhost:8080/"
        },
        "id": "goblPeLRliiv",
        "outputId": "abdddf01-508c-4f65-fca0-6409aa8d4031"
      },
      "outputs": [
        {
          "name": "stdout",
          "output_type": "stream",
          "text": [
            "\n",
            "Training set shape: (10711, 3)\n",
            "Validation set shape: (2678, 3)\n"
          ]
        }
      ],
      "source": [
        "from sklearn.model_selection import train_test_split\n",
        "\n",
        "\n",
        "# Split the data (80% train, 20% validation)\n",
        "train_df, val_df = train_test_split(df, test_size=0.2, random_state=42)\n",
        "\n",
        "print(f\"\\nTraining set shape: {train_df.shape}\")\n",
        "print(f\"Validation set shape: {val_df.shape}\")\n"
      ]
    },
    {
      "cell_type": "code",
      "execution_count": null,
      "metadata": {
        "id": "4oPH8a7ElqrP"
      },
      "outputs": [],
      "source": [
        "# import torch\n",
        "# from torch.utils.data import DataLoader, TensorDataset\n",
        "\n",
        "# train_labels_tensor = torch.tensor(train_df['label'].values, dtype=torch.long)\n",
        "# val_labels_tensor = torch.tensor(val_df['label'].values, dtype=torch.long)\n",
        "\n",
        "# train_embeddings_tensor = torch.randn(len(train_df), max_len, embed_dim)\n",
        "# val_embeddings_tensor = torch.randn(len(val_df), max_len, embed_dim)\n",
        "\n",
        "# train_dataset = TensorDataset(train_embeddings_tensor, train_labels_tensor)\n",
        "# val_dataset = TensorDataset(val_embeddings_tensor, val_labels_tensor)\n",
        "\n",
        "# train_loader = DataLoader(train_dataset, batch_size=32, shuffle=True)\n",
        "# val_loader = DataLoader(val_dataset, batch_size=32, shuffle=False)\n"
      ]
    },
    {
      "cell_type": "markdown",
      "metadata": {},
      "source": [
        "```\n",
        "train_embeddings_tensor = torch.randn(len(train_df), max_len, embed_dim)\n",
        "val_embeddings_tensor = torch.randn(len(val_df), max_len, embed_dim)\n",
        "```\n",
        "this was the error in the code because of which aggressive overfitting was happening\n",
        "\n",
        "**in the last I have trained model with error solved**\n",
        "> Lets fix this\n",
        "\n"
      ]
    },
    {
      "cell_type": "code",
      "execution_count": 38,
      "metadata": {},
      "outputs": [],
      "source": [
        "import numpy as np\n",
        "import torch\n",
        "from torch.utils.data import DataLoader, TensorDataset\n",
        "\n",
        "def texts_to_tensor(texts, word2vec, max_len, embed_dim):\n",
        "    embeddings = []\n",
        "    for text in texts:\n",
        "        emb = text_to_embedding(text, word2vec, max_len)\n",
        "        embeddings.append(emb)\n",
        "    return torch.tensor(np.array(embeddings), dtype=torch.float32)\n",
        "\n",
        "train_embeddings_tensor = texts_to_tensor(train_df['Text'], word2vec, max_len, embed_dim)\n",
        "val_embeddings_tensor = texts_to_tensor(val_df['Text'], word2vec, max_len, embed_dim)\n",
        "\n",
        "train_labels_tensor = torch.tensor(train_df['label'].values, dtype=torch.long)\n",
        "val_labels_tensor = torch.tensor(val_df['label'].values, dtype=torch.long)\n",
        "\n",
        "train_dataset = TensorDataset(train_embeddings_tensor, train_labels_tensor)\n",
        "val_dataset = TensorDataset(val_embeddings_tensor, val_labels_tensor)\n",
        "\n",
        "train_loader = DataLoader(train_dataset, batch_size=32, shuffle=True)\n",
        "val_loader = DataLoader(val_dataset, batch_size=32, shuffle=False)\n"
      ]
    },
    {
      "cell_type": "code",
      "execution_count": 39,
      "metadata": {
        "id": "LliML_R_nD2S"
      },
      "outputs": [],
      "source": [
        "import torch.optim as optim\n",
        "\n",
        "model = TransformerClassifier(embed_dim, num_heads, ff_hidden_dim, num_classes, num_layers, max_len)\n",
        "\n",
        "device = torch.device(\"cuda\" if torch.cuda.is_available() else \"cpu\")\n",
        "model = model.to(device)\n",
        "\n",
        "# Loss function and optimizer\n",
        "criterion = nn.CrossEntropyLoss()\n",
        "optimizer = optim.AdamW(model.parameters(), lr=learning_rate)"
      ]
    },
    {
      "cell_type": "code",
      "execution_count": 79,
      "metadata": {
        "id": "Wz8rcDzaoUa_"
      },
      "outputs": [],
      "source": [
        "import torch\n",
        "from sklearn.metrics import precision_recall_fscore_support, accuracy_score\n",
        "from tqdm import tqdm\n",
        "\n",
        "def train_model(model, train_loader, val_loader, criterion, optimizer, device, num_epochs=10):\n",
        "    for epoch in range(num_epochs):\n",
        "        model.train()\n",
        "        running_loss = 0.0\n",
        "        all_preds = []\n",
        "        all_labels = []\n",
        "\n",
        "        loop = tqdm(train_loader, desc=f\"Epoch {epoch+1}/{num_epochs} [Train]\")\n",
        "        for inputs, labels in loop:\n",
        "            inputs, labels = inputs.to(device), labels.to(device)\n",
        "\n",
        "            optimizer.zero_grad()\n",
        "            outputs = model(inputs)\n",
        "\n",
        "            loss = criterion(outputs, labels)\n",
        "            loss.backward()\n",
        "            optimizer.step()\n",
        "\n",
        "            running_loss += loss.item() * inputs.size(0)\n",
        "\n",
        "            preds = torch.argmax(outputs, dim=1)\n",
        "            all_preds.extend(preds.cpu().numpy())\n",
        "            all_labels.extend(labels.cpu().numpy())\n",
        "\n",
        "            acc = accuracy_score(all_labels, all_preds)\n",
        "            loop.set_postfix(loss=running_loss / len(all_labels), accuracy=acc)\n",
        "\n",
        "        epoch_loss = running_loss / len(train_loader.dataset)\n",
        "        epoch_acc = accuracy_score(all_labels, all_preds)\n",
        "\n",
        "        precision, recall, f1, _ = precision_recall_fscore_support(all_labels, all_preds, average='weighted' , zero_division=0)\n",
        "\n",
        "        print(f\"\\nEpoch {epoch+1} Train Loss: {epoch_loss:.4f} Acc: {accuracy_score(all_labels, all_preds)*100:.2f}% Precision: {precision*100:.2f} Recall: {recall*100:.2f} F1: {f1*100:.2f}\")\n",
        "\n",
        "        # Validation\n",
        "        model.eval()\n",
        "        val_preds = []\n",
        "        val_labels = []\n",
        "        val_loss = 0.0\n",
        "\n",
        "        with torch.no_grad():\n",
        "            loop = tqdm(val_loader, desc=f\"Epoch {epoch+1}/{num_epochs} [Val]\", leave=False)\n",
        "            for inputs, labels in loop:\n",
        "                inputs, labels = inputs.to(device), labels.to(device)\n",
        "                outputs = model(inputs)\n",
        "\n",
        "                loss = criterion(outputs, labels)\n",
        "                val_loss += loss.item() * inputs.size(0)\n",
        "\n",
        "                preds = torch.argmax(outputs, dim=1)\n",
        "                val_preds.extend(preds.cpu().numpy())\n",
        "                val_labels.extend(labels.cpu().numpy())\n",
        "\n",
        "                val_acc = accuracy_score(val_labels, val_preds)\n",
        "                loop.set_postfix(val_loss=val_loss / len(val_labels), val_acc=val_acc)\n",
        "\n",
        "        val_loss /= len(val_loader.dataset)\n",
        "        val_acc = accuracy_score(val_labels, val_preds)\n",
        "        val_precision, val_recall, val_f1, _ = precision_recall_fscore_support(val_labels, val_preds, average='weighted' , zero_division=0)\n",
        "\n",
        "        print(f\"Epoch {epoch+1} Val Loss: {val_loss:.4f} Val Acc: {val_acc*100:.2f}% Val Precision: {val_precision*100:.2f} Val Recall: {val_recall*100:.2f} Val F1: {val_f1*100:.2f}\\n\")\n"
      ]
    },
    {
      "cell_type": "code",
      "execution_count": null,
      "metadata": {
        "id": "m_NxXd4gxZbZ"
      },
      "outputs": [],
      "source": [
        "# train_model(model, train_loader, val_loader, criterion, optimizer, device, num_epochs=10)\n",
        "# parameters:-\n",
        "# embed_dim = 300\n",
        "# num_heads = 6\n",
        "# ff_hidden_dim = 512\n",
        "# num_classes = 43\n",
        "# num_layers = 2\n",
        "# max_len = 100\n",
        "# num_epochs = 8\n",
        "# batch_size = 64\n",
        "# learning_rate = 1e-4"
      ]
    },
    {
      "cell_type": "markdown",
      "metadata": {
        "id": "3WYrujJurW0-"
      },
      "source": [
        "**I stopped the training as model was aggressively overfitting (i lost the cell output so just wrote in markdown)**\n",
        "\n",
        " Epoch 1/10 [Train]: 100%|██████████| 335/335 [02:22<00:00,  2.35it/s, accuracy=0.0298, loss=3.74]\n",
        "\n",
        "Epoch 1 Train Loss: 3.7395 Acc: 2.98% Precision: 3.91 Recall: 2.98 F1: 1.92\n",
        "Epoch 1 Val Loss: 3.7528 Val Acc: 2.46% Val Precision: 0.10 Val Recall: 2.46 Val F1: 0.20\n",
        "\n",
        "Epoch 2/10 [Train]: 100%|██████████| 335/335 [02:24<00:00,  2.32it/s, accuracy=0.0389, loss=3.72]\n",
        "\n",
        "Epoch 2 Train Loss: 3.7174 Acc: 3.89% Precision: 3.16 Recall: 3.89 F1: 2.78\n",
        "Epoch 2 Val Loss: 3.7482 Val Acc: 2.28% Val Precision: 0.62 Val Recall: 2.28 Val F1: 0.70\n",
        "\n",
        "Epoch 3/10 [Train]: 100%|██████████| 335/335 [02:21<00:00,  2.36it/s, accuracy=0.0615, loss=3.65]\n",
        "\n",
        "Epoch 3 Train Loss: 3.6545 Acc: 6.15% Precision: 6.40 Recall: 6.15 F1: 5.02\n",
        "Epoch 3 Val Loss: 3.7766 Val Acc: 2.73% Val Precision: 4.26 Val Recall: 2.73 Val F1: 1.40\n",
        "\n",
        "Epoch 4/10 [Train]: 100%|██████████| 335/335 [02:22<00:00,  2.35it/s, accuracy=0.113, loss=3.49]\n",
        "\n",
        "Epoch 4 Train Loss: 3.4859 Acc: 11.25% Precision: 12.16 Recall: 11.25 F1: 10.21\n",
        "Epoch 4 Val Loss: 3.8425 Val Acc: 2.35% Val Precision: 2.86 Val Recall: 2.35 Val F1: 1.86\n",
        "\n",
        "Epoch 5/10 [Train]: 100%|██████████| 335/335 [02:21<00:00,  2.38it/s, accuracy=0.202, loss=3.17]\n",
        "\n",
        "Epoch 5 Train Loss: 3.1654 Acc: 20.17% Precision: 21.32 Recall: 20.17 F1: 19.18\n",
        "Epoch 5 Val Loss: 4.0261 Val Acc: 2.65% Val Precision: 2.96 Val Recall: 2.65 Val F1: 2.03\n",
        "\n",
        "Epoch 6/10 [Train]: 100%|██████████| 335/335 [02:21<00:00,  2.36it/s, accuracy=0.307, loss=2.71]\n",
        "\n",
        "Epoch 6 Train Loss: 2.7085 Acc: 30.73% Precision: 31.46 Recall: 30.73 F1: 29.94\n",
        "Epoch 6 Val Loss: 4.3188 Val Acc: 2.46% Val Precision: 2.52 Val Recall: 2.46 Val F1: 2.20"
      ]
    },
    {
      "cell_type": "code",
      "execution_count": 44,
      "metadata": {
        "colab": {
          "base_uri": "https://localhost:8080/",
          "height": 738
        },
        "id": "fIaxbad3pwH9",
        "outputId": "5b82b32a-c758-49f4-eed2-72198d8cd550"
      },
      "outputs": [
        {
          "name": "stderr",
          "output_type": "stream",
          "text": [
            "Epoch 1/10 [Train]: 100%|██████████| 335/335 [01:52<00:00,  2.97it/s, accuracy=0.0254, loss=3.78]\n"
          ]
        },
        {
          "name": "stdout",
          "output_type": "stream",
          "text": [
            "\n",
            "Epoch 1 Train Loss: 3.7806 Acc: 2.54% Precision: 1.64 Recall: 2.54 F1: 1.83\n"
          ]
        },
        {
          "name": "stderr",
          "output_type": "stream",
          "text": []
        },
        {
          "name": "stdout",
          "output_type": "stream",
          "text": [
            "Epoch 1 Val Loss: 3.7654 Val Acc: 2.73% Val Precision: 0.20 Val Recall: 2.73 Val F1: 0.38\n",
            "\n"
          ]
        },
        {
          "name": "stderr",
          "output_type": "stream",
          "text": [
            "Epoch 2/10 [Train]: 100%|██████████| 335/335 [01:48<00:00,  3.09it/s, accuracy=0.0252, loss=3.76]\n"
          ]
        },
        {
          "name": "stdout",
          "output_type": "stream",
          "text": [
            "\n",
            "Epoch 2 Train Loss: 3.7605 Acc: 2.52% Precision: 1.85 Recall: 2.52 F1: 1.88\n"
          ]
        },
        {
          "name": "stderr",
          "output_type": "stream",
          "text": []
        },
        {
          "name": "stdout",
          "output_type": "stream",
          "text": [
            "Epoch 2 Val Loss: 3.7538 Val Acc: 3.02% Val Precision: 0.93 Val Recall: 3.02 Val F1: 1.12\n",
            "\n"
          ]
        },
        {
          "name": "stderr",
          "output_type": "stream",
          "text": [
            "Epoch 3/10 [Train]: 100%|██████████| 335/335 [01:46<00:00,  3.14it/s, accuracy=0.0372, loss=3.73]\n"
          ]
        },
        {
          "name": "stdout",
          "output_type": "stream",
          "text": [
            "\n",
            "Epoch 3 Train Loss: 3.7261 Acc: 3.72% Precision: 3.95 Recall: 3.72 F1: 3.08\n"
          ]
        },
        {
          "name": "stderr",
          "output_type": "stream",
          "text": []
        },
        {
          "name": "stdout",
          "output_type": "stream",
          "text": [
            "Epoch 3 Val Loss: 3.7863 Val Acc: 2.69% Val Precision: 1.39 Val Recall: 2.69 Val F1: 0.93\n",
            "\n"
          ]
        },
        {
          "name": "stderr",
          "output_type": "stream",
          "text": [
            "Epoch 4/10 [Train]: 100%|██████████| 335/335 [01:48<00:00,  3.09it/s, accuracy=0.0598, loss=3.65]\n"
          ]
        },
        {
          "name": "stdout",
          "output_type": "stream",
          "text": [
            "\n",
            "Epoch 4 Train Loss: 3.6520 Acc: 5.98% Precision: 6.00 Recall: 5.98 F1: 5.55\n"
          ]
        },
        {
          "name": "stderr",
          "output_type": "stream",
          "text": []
        },
        {
          "name": "stdout",
          "output_type": "stream",
          "text": [
            "Epoch 4 Val Loss: 3.8272 Val Acc: 2.20% Val Precision: 2.72 Val Recall: 2.20 Val F1: 1.54\n",
            "\n"
          ]
        },
        {
          "name": "stderr",
          "output_type": "stream",
          "text": [
            "Epoch 5/10 [Train]: 100%|██████████| 335/335 [01:48<00:00,  3.09it/s, accuracy=0.0871, loss=3.52]\n"
          ]
        },
        {
          "name": "stdout",
          "output_type": "stream",
          "text": [
            "\n",
            "Epoch 5 Train Loss: 3.5217 Acc: 8.71% Precision: 8.64 Recall: 8.71 F1: 8.31\n"
          ]
        },
        {
          "name": "stderr",
          "output_type": "stream",
          "text": []
        },
        {
          "name": "stdout",
          "output_type": "stream",
          "text": [
            "Epoch 5 Val Loss: 3.9441 Val Acc: 1.87% Val Precision: 2.70 Val Recall: 1.87 Val F1: 1.57\n",
            "\n"
          ]
        },
        {
          "name": "stderr",
          "output_type": "stream",
          "text": [
            "Epoch 6/10 [Train]:   7%|▋         | 24/335 [00:08<01:44,  2.99it/s, accuracy=0.176, loss=3.24]\n"
          ]
        },
        {
          "ename": "KeyboardInterrupt",
          "evalue": "",
          "output_type": "error",
          "traceback": [
            "\u001b[0;31m---------------------------------------------------------------------------\u001b[0m",
            "\u001b[0;31mKeyboardInterrupt\u001b[0m                         Traceback (most recent call last)",
            "\u001b[0;32m<ipython-input-44-c3b017988b13>\u001b[0m in \u001b[0;36m<cell line: 0>\u001b[0;34m()\u001b[0m\n\u001b[0;32m----> 1\u001b[0;31m \u001b[0mtrain_model\u001b[0m\u001b[0;34m(\u001b[0m\u001b[0mmodel\u001b[0m\u001b[0;34m,\u001b[0m \u001b[0mtrain_loader\u001b[0m\u001b[0;34m,\u001b[0m \u001b[0mval_loader\u001b[0m\u001b[0;34m,\u001b[0m \u001b[0mcriterion\u001b[0m\u001b[0;34m,\u001b[0m \u001b[0moptimizer\u001b[0m\u001b[0;34m,\u001b[0m \u001b[0mdevice\u001b[0m\u001b[0;34m,\u001b[0m \u001b[0mnum_epochs\u001b[0m\u001b[0;34m=\u001b[0m\u001b[0;36m10\u001b[0m\u001b[0;34m)\u001b[0m\u001b[0;34m\u001b[0m\u001b[0;34m\u001b[0m\u001b[0m\n\u001b[0m",
            "\u001b[0;32m<ipython-input-43-74bde50593c4>\u001b[0m in \u001b[0;36mtrain_model\u001b[0;34m(model, train_loader, val_loader, criterion, optimizer, device, num_epochs)\u001b[0m\n\u001b[1;32m     18\u001b[0m \u001b[0;34m\u001b[0m\u001b[0m\n\u001b[1;32m     19\u001b[0m             \u001b[0mloss\u001b[0m \u001b[0;34m=\u001b[0m \u001b[0mcriterion\u001b[0m\u001b[0;34m(\u001b[0m\u001b[0moutputs\u001b[0m\u001b[0;34m,\u001b[0m \u001b[0mlabels\u001b[0m\u001b[0;34m)\u001b[0m\u001b[0;34m\u001b[0m\u001b[0;34m\u001b[0m\u001b[0m\n\u001b[0;32m---> 20\u001b[0;31m             \u001b[0mloss\u001b[0m\u001b[0;34m.\u001b[0m\u001b[0mbackward\u001b[0m\u001b[0;34m(\u001b[0m\u001b[0;34m)\u001b[0m\u001b[0;34m\u001b[0m\u001b[0;34m\u001b[0m\u001b[0m\n\u001b[0m\u001b[1;32m     21\u001b[0m             \u001b[0moptimizer\u001b[0m\u001b[0;34m.\u001b[0m\u001b[0mstep\u001b[0m\u001b[0;34m(\u001b[0m\u001b[0;34m)\u001b[0m\u001b[0;34m\u001b[0m\u001b[0;34m\u001b[0m\u001b[0m\n\u001b[1;32m     22\u001b[0m \u001b[0;34m\u001b[0m\u001b[0m\n",
            "\u001b[0;32m/usr/local/lib/python3.11/dist-packages/torch/_tensor.py\u001b[0m in \u001b[0;36mbackward\u001b[0;34m(self, gradient, retain_graph, create_graph, inputs)\u001b[0m\n\u001b[1;32m    624\u001b[0m                 \u001b[0minputs\u001b[0m\u001b[0;34m=\u001b[0m\u001b[0minputs\u001b[0m\u001b[0;34m,\u001b[0m\u001b[0;34m\u001b[0m\u001b[0;34m\u001b[0m\u001b[0m\n\u001b[1;32m    625\u001b[0m             )\n\u001b[0;32m--> 626\u001b[0;31m         torch.autograd.backward(\n\u001b[0m\u001b[1;32m    627\u001b[0m             \u001b[0mself\u001b[0m\u001b[0;34m,\u001b[0m \u001b[0mgradient\u001b[0m\u001b[0;34m,\u001b[0m \u001b[0mretain_graph\u001b[0m\u001b[0;34m,\u001b[0m \u001b[0mcreate_graph\u001b[0m\u001b[0;34m,\u001b[0m \u001b[0minputs\u001b[0m\u001b[0;34m=\u001b[0m\u001b[0minputs\u001b[0m\u001b[0;34m\u001b[0m\u001b[0;34m\u001b[0m\u001b[0m\n\u001b[1;32m    628\u001b[0m         )\n",
            "\u001b[0;32m/usr/local/lib/python3.11/dist-packages/torch/autograd/__init__.py\u001b[0m in \u001b[0;36mbackward\u001b[0;34m(tensors, grad_tensors, retain_graph, create_graph, grad_variables, inputs)\u001b[0m\n\u001b[1;32m    345\u001b[0m     \u001b[0;31m# some Python versions print out the first line of a multi-line function\u001b[0m\u001b[0;34m\u001b[0m\u001b[0;34m\u001b[0m\u001b[0m\n\u001b[1;32m    346\u001b[0m     \u001b[0;31m# calls in the traceback and some print out the last line\u001b[0m\u001b[0;34m\u001b[0m\u001b[0;34m\u001b[0m\u001b[0m\n\u001b[0;32m--> 347\u001b[0;31m     _engine_run_backward(\n\u001b[0m\u001b[1;32m    348\u001b[0m         \u001b[0mtensors\u001b[0m\u001b[0;34m,\u001b[0m\u001b[0;34m\u001b[0m\u001b[0;34m\u001b[0m\u001b[0m\n\u001b[1;32m    349\u001b[0m         \u001b[0mgrad_tensors_\u001b[0m\u001b[0;34m,\u001b[0m\u001b[0;34m\u001b[0m\u001b[0;34m\u001b[0m\u001b[0m\n",
            "\u001b[0;32m/usr/local/lib/python3.11/dist-packages/torch/autograd/graph.py\u001b[0m in \u001b[0;36m_engine_run_backward\u001b[0;34m(t_outputs, *args, **kwargs)\u001b[0m\n\u001b[1;32m    821\u001b[0m         \u001b[0munregister_hooks\u001b[0m \u001b[0;34m=\u001b[0m \u001b[0m_register_logging_hooks_on_whole_graph\u001b[0m\u001b[0;34m(\u001b[0m\u001b[0mt_outputs\u001b[0m\u001b[0;34m)\u001b[0m\u001b[0;34m\u001b[0m\u001b[0;34m\u001b[0m\u001b[0m\n\u001b[1;32m    822\u001b[0m     \u001b[0;32mtry\u001b[0m\u001b[0;34m:\u001b[0m\u001b[0;34m\u001b[0m\u001b[0;34m\u001b[0m\u001b[0m\n\u001b[0;32m--> 823\u001b[0;31m         return Variable._execution_engine.run_backward(  # Calls into the C++ engine to run the backward pass\n\u001b[0m\u001b[1;32m    824\u001b[0m             \u001b[0mt_outputs\u001b[0m\u001b[0;34m,\u001b[0m \u001b[0;34m*\u001b[0m\u001b[0margs\u001b[0m\u001b[0;34m,\u001b[0m \u001b[0;34m**\u001b[0m\u001b[0mkwargs\u001b[0m\u001b[0;34m\u001b[0m\u001b[0;34m\u001b[0m\u001b[0m\n\u001b[1;32m    825\u001b[0m         )  # Calls into the C++ engine to run the backward pass\n",
            "\u001b[0;31mKeyboardInterrupt\u001b[0m: "
          ]
        }
      ],
      "source": [
        "#training -2\n",
        "#parameter:-\n",
        "# embed_dim = 300\n",
        "# num_heads = 2\n",
        "# ff_hidden_dim = 128\n",
        "# num_classes = 43\n",
        "# num_layers = 1\n",
        "# max_len = 200\n",
        "# num_epochs = 8\n",
        "# batch_size = 32\n",
        "# learning_rate = 1e-3\n",
        "train_model(model, train_loader, val_loader, criterion, optimizer, device, num_epochs=10) #less epoch to check overfitting"
      ]
    },
    {
      "cell_type": "markdown",
      "metadata": {
        "id": "2595arhT2nny"
      },
      "source": [
        "**Again Overfitting**\n",
        "\n",
        "\n",
        "\n",
        "> Lets use LR Scheduler\n",
        "\n",
        "\n",
        "\n",
        "\n",
        "\n"
      ]
    },
    {
      "cell_type": "code",
      "execution_count": 40,
      "metadata": {
        "id": "87FHDRDuwYBW"
      },
      "outputs": [],
      "source": [
        "import torch\n",
        "from sklearn.metrics import precision_recall_fscore_support, accuracy_score\n",
        "from tqdm import tqdm\n",
        "import numpy as np\n",
        "\n",
        "def train_model_new(model, train_loader, val_loader, criterion, optimizer, device, num_epochs=10, patience=2):\n",
        "    scheduler = torch.optim.lr_scheduler.StepLR(optimizer, step_size=3, gamma=0.5)\n",
        "    best_val_loss = np.inf\n",
        "    best_val_f1 = 0\n",
        "    patience_counter = 0\n",
        "\n",
        "    for epoch in range(num_epochs):\n",
        "        model.train()\n",
        "        running_loss = 0.0\n",
        "        all_preds = []\n",
        "        all_labels = []\n",
        "\n",
        "        loop = tqdm(train_loader, desc=f\"Epoch {epoch+1}/{num_epochs} [Train]\")\n",
        "        for inputs, labels in loop:\n",
        "            inputs, labels = inputs.to(device), labels.to(device)\n",
        "\n",
        "            optimizer.zero_grad()\n",
        "            outputs = model(inputs)\n",
        "\n",
        "            loss = criterion(outputs, labels)\n",
        "            loss.backward()\n",
        "\n",
        "            # Gradient clipping\n",
        "            torch.nn.utils.clip_grad_norm_(model.parameters(), max_norm=1.0)\n",
        "\n",
        "            optimizer.step()\n",
        "\n",
        "            preds = torch.argmax(outputs, dim=1)\n",
        "            all_preds.extend(preds.cpu().numpy())\n",
        "            all_labels.extend(labels.cpu().numpy())\n",
        "\n",
        "            running_loss += loss.item() * inputs.size(0)\n",
        "            \n",
        "            loop.set_postfix(loss=running_loss/len(all_labels))\n",
        "\n",
        "        epoch_loss = running_loss / len(train_loader.dataset)\n",
        "        epoch_acc = accuracy_score(all_labels, all_preds)\n",
        "        precision, recall, f1, _ = precision_recall_fscore_support(\n",
        "            all_labels, all_preds, average='weighted', zero_division=0\n",
        "        )\n",
        "\n",
        "        print(f\"\\nEpoch {epoch+1} Train Loss: {epoch_loss:.4f} Acc: {epoch_acc*100:.2f}% \"\n",
        "              f\"Precision: {precision*100:.2f} Recall: {recall*100:.2f} F1: {f1*100:.2f}\")\n",
        "\n",
        "        # Validation\n",
        "        model.eval()\n",
        "        val_preds = []\n",
        "        val_labels = []\n",
        "        val_loss = 0.0\n",
        "\n",
        "        with torch.no_grad():\n",
        "            loop = tqdm(val_loader, desc=f\"Epoch {epoch+1}/{num_epochs} [Val]\", leave=False)\n",
        "            for inputs, labels in loop:\n",
        "                inputs, labels = inputs.to(device), labels.to(device)\n",
        "                outputs = model(inputs)\n",
        "\n",
        "                loss = criterion(outputs, labels)\n",
        "                val_loss += loss.item() * inputs.size(0)\n",
        "\n",
        "                preds = torch.argmax(outputs, dim=1)\n",
        "                val_preds.extend(preds.cpu().numpy())\n",
        "                val_labels.extend(labels.cpu().numpy())\n",
        "                \n",
        "                loop.set_postfix(val_loss=val_loss/len(val_labels))\n",
        "\n",
        "        val_loss /= len(val_loader.dataset)\n",
        "        val_acc = accuracy_score(val_labels, val_preds)\n",
        "        val_precision, val_recall, val_f1, _ = precision_recall_fscore_support(\n",
        "            val_labels, val_preds, average='weighted', zero_division=0\n",
        "        )\n",
        "\n",
        "        print(f\"Epoch {epoch+1} Val Loss: {val_loss:.4f} Val Acc: {val_acc*100:.2f}% \"\n",
        "              f\"Val Precision: {val_precision*100:.2f} Val Recall: {val_recall*100:.2f} Val F1: {val_f1*100:.2f}\\n\")\n",
        "\n",
        "        scheduler.step()\n",
        "\n",
        "        # Early stopping based on validation loss and save best model based on F1\n",
        "        if val_loss < best_val_loss:\n",
        "            best_val_loss = val_loss\n",
        "            patience_counter = 0\n",
        "        else:\n",
        "            patience_counter += 1\n",
        "            \n",
        "        if val_f1 > best_val_f1:\n",
        "            best_val_f1 = val_f1\n",
        "            torch.save(model.state_dict(), 'best_model.pt')\n",
        "\n",
        "        if patience_counter >= patience:\n",
        "            print(f\"Early stopping at epoch {epoch+1}\")\n",
        "            break"
      ]
    },
    {
      "cell_type": "code",
      "execution_count": 33,
      "metadata": {
        "colab": {
          "base_uri": "https://localhost:8080/"
        },
        "id": "69CeK2rg5QZU",
        "outputId": "f59f76e5-77a4-4f86-ba1b-402ae32935de"
      },
      "outputs": [
        {
          "name": "stderr",
          "output_type": "stream",
          "text": [
            "Epoch 1/12 [Train]: 100%|██████████| 335/335 [00:36<00:00,  9.11it/s, loss=2.82]\n"
          ]
        },
        {
          "name": "stdout",
          "output_type": "stream",
          "text": [
            "\n",
            "Epoch 1 Train Loss: 2.8173 Acc: 31.54% Precision: 33.48 Recall: 31.54 F1: 31.04\n"
          ]
        },
        {
          "name": "stderr",
          "output_type": "stream",
          "text": [
            "                                                                                \r"
          ]
        },
        {
          "name": "stdout",
          "output_type": "stream",
          "text": [
            "Epoch 1 Val Loss: 4.2210 Val Acc: 2.46% Val Precision: 2.06 Val Recall: 2.46 Val F1: 2.06\n",
            "\n"
          ]
        },
        {
          "name": "stderr",
          "output_type": "stream",
          "text": [
            "Epoch 2/12 [Train]: 100%|██████████| 335/335 [00:37<00:00,  8.96it/s, loss=2.07]\n"
          ]
        },
        {
          "name": "stdout",
          "output_type": "stream",
          "text": [
            "\n",
            "Epoch 2 Train Loss: 2.0724 Acc: 49.13% Precision: 49.73 Recall: 49.13 F1: 48.89\n"
          ]
        },
        {
          "name": "stderr",
          "output_type": "stream",
          "text": [
            "                                                                                \r"
          ]
        },
        {
          "name": "stdout",
          "output_type": "stream",
          "text": [
            "Epoch 2 Val Loss: 4.7374 Val Acc: 2.09% Val Precision: 2.06 Val Recall: 2.09 Val F1: 1.96\n",
            "\n"
          ]
        },
        {
          "name": "stderr",
          "output_type": "stream",
          "text": [
            "Epoch 3/12 [Train]: 100%|██████████| 335/335 [00:38<00:00,  8.59it/s, loss=1.41]\n"
          ]
        },
        {
          "name": "stdout",
          "output_type": "stream",
          "text": [
            "\n",
            "Epoch 3 Train Loss: 1.4088 Acc: 65.33% Precision: 65.53 Recall: 65.33 F1: 65.22\n"
          ]
        },
        {
          "name": "stderr",
          "output_type": "stream",
          "text": [
            "                                                                                \r"
          ]
        },
        {
          "name": "stdout",
          "output_type": "stream",
          "text": [
            "Epoch 3 Val Loss: 5.3310 Val Acc: 2.43% Val Precision: 2.30 Val Recall: 2.43 Val F1: 2.28\n",
            "\n"
          ]
        },
        {
          "name": "stderr",
          "output_type": "stream",
          "text": [
            "Epoch 4/12 [Train]: 100%|██████████| 335/335 [00:39<00:00,  8.58it/s, loss=0.764]\n"
          ]
        },
        {
          "name": "stdout",
          "output_type": "stream",
          "text": [
            "\n",
            "Epoch 4 Train Loss: 0.7640 Acc: 84.49% Precision: 84.58 Recall: 84.49 F1: 84.45\n"
          ]
        },
        {
          "name": "stderr",
          "output_type": "stream",
          "text": [
            "                                                                                \r"
          ]
        },
        {
          "name": "stdout",
          "output_type": "stream",
          "text": [
            "Epoch 4 Val Loss: 5.8305 Val Acc: 2.20% Val Precision: 2.23 Val Recall: 2.20 Val F1: 2.18\n",
            "\n"
          ]
        },
        {
          "name": "stderr",
          "output_type": "stream",
          "text": [
            "Epoch 5/12 [Train]: 100%|██████████| 335/335 [00:38<00:00,  8.63it/s, loss=0.459]\n"
          ]
        },
        {
          "name": "stdout",
          "output_type": "stream",
          "text": [
            "\n",
            "Epoch 5 Train Loss: 0.4592 Acc: 92.81% Precision: 92.82 Recall: 92.81 F1: 92.80\n"
          ]
        },
        {
          "name": "stderr",
          "output_type": "stream",
          "text": [
            "                                                                                \r"
          ]
        },
        {
          "name": "stdout",
          "output_type": "stream",
          "text": [
            "Epoch 5 Val Loss: 6.3506 Val Acc: 2.17% Val Precision: 2.28 Val Recall: 2.17 Val F1: 2.17\n",
            "\n"
          ]
        },
        {
          "name": "stderr",
          "output_type": "stream",
          "text": [
            "Epoch 6/12 [Train]: 100%|██████████| 335/335 [00:42<00:00,  7.84it/s, loss=0.251]\n"
          ]
        },
        {
          "name": "stdout",
          "output_type": "stream",
          "text": [
            "\n",
            "Epoch 6 Train Loss: 0.2508 Acc: 97.73% Precision: 97.74 Recall: 97.73 F1: 97.73\n"
          ]
        },
        {
          "name": "stderr",
          "output_type": "stream",
          "text": [
            "                                                                                \r"
          ]
        },
        {
          "name": "stdout",
          "output_type": "stream",
          "text": [
            "Epoch 6 Val Loss: 6.9397 Val Acc: 1.98% Val Precision: 2.00 Val Recall: 1.98 Val F1: 1.94\n",
            "\n"
          ]
        },
        {
          "name": "stderr",
          "output_type": "stream",
          "text": [
            "Epoch 7/12 [Train]: 100%|██████████| 335/335 [00:42<00:00,  7.90it/s, loss=0.106]\n"
          ]
        },
        {
          "name": "stdout",
          "output_type": "stream",
          "text": [
            "\n",
            "Epoch 7 Train Loss: 0.1061 Acc: 99.59% Precision: 99.59 Recall: 99.59 F1: 99.59\n"
          ]
        },
        {
          "name": "stderr",
          "output_type": "stream",
          "text": [
            "                                                                                \r"
          ]
        },
        {
          "name": "stdout",
          "output_type": "stream",
          "text": [
            "Epoch 7 Val Loss: 7.3180 Val Acc: 2.17% Val Precision: 2.24 Val Recall: 2.17 Val F1: 2.15\n",
            "\n"
          ]
        },
        {
          "name": "stderr",
          "output_type": "stream",
          "text": [
            "Epoch 8/12 [Train]: 100%|██████████| 335/335 [00:41<00:00,  8.09it/s, loss=0.0563]\n"
          ]
        },
        {
          "name": "stdout",
          "output_type": "stream",
          "text": [
            "\n",
            "Epoch 8 Train Loss: 0.0563 Acc: 99.92% Precision: 99.92 Recall: 99.92 F1: 99.92\n"
          ]
        },
        {
          "name": "stderr",
          "output_type": "stream",
          "text": [
            "                                                                                \r"
          ]
        },
        {
          "name": "stdout",
          "output_type": "stream",
          "text": [
            "Epoch 8 Val Loss: 7.7804 Val Acc: 2.13% Val Precision: 2.11 Val Recall: 2.13 Val F1: 2.07\n",
            "\n"
          ]
        },
        {
          "name": "stderr",
          "output_type": "stream",
          "text": [
            "Epoch 9/12 [Train]: 100%|██████████| 335/335 [00:42<00:00,  7.79it/s, loss=0.0281]\n"
          ]
        },
        {
          "name": "stdout",
          "output_type": "stream",
          "text": [
            "\n",
            "Epoch 9 Train Loss: 0.0281 Acc: 99.99% Precision: 99.99 Recall: 99.99 F1: 99.99\n"
          ]
        },
        {
          "name": "stderr",
          "output_type": "stream",
          "text": [
            "                                                                                \r"
          ]
        },
        {
          "name": "stdout",
          "output_type": "stream",
          "text": [
            "Epoch 9 Val Loss: 8.1676 Val Acc: 2.35% Val Precision: 2.43 Val Recall: 2.35 Val F1: 2.35\n",
            "\n"
          ]
        },
        {
          "name": "stderr",
          "output_type": "stream",
          "text": [
            "Epoch 10/12 [Train]: 100%|██████████| 335/335 [00:43<00:00,  7.65it/s, loss=0.0157]\n"
          ]
        },
        {
          "name": "stdout",
          "output_type": "stream",
          "text": [
            "\n",
            "Epoch 10 Train Loss: 0.0157 Acc: 100.00% Precision: 100.00 Recall: 100.00 F1: 100.00\n"
          ]
        },
        {
          "name": "stderr",
          "output_type": "stream",
          "text": [
            "                                                                                 \r"
          ]
        },
        {
          "name": "stdout",
          "output_type": "stream",
          "text": [
            "Epoch 10 Val Loss: 8.3042 Val Acc: 2.24% Val Precision: 2.30 Val Recall: 2.24 Val F1: 2.24\n",
            "\n"
          ]
        },
        {
          "name": "stderr",
          "output_type": "stream",
          "text": [
            "Epoch 11/12 [Train]: 100%|██████████| 335/335 [00:42<00:00,  7.86it/s, loss=0.0124]\n"
          ]
        },
        {
          "name": "stdout",
          "output_type": "stream",
          "text": [
            "\n",
            "Epoch 11 Train Loss: 0.0124 Acc: 100.00% Precision: 100.00 Recall: 100.00 F1: 100.00\n"
          ]
        },
        {
          "name": "stderr",
          "output_type": "stream",
          "text": [
            "                                                                                 \r"
          ]
        },
        {
          "name": "stdout",
          "output_type": "stream",
          "text": [
            "Epoch 11 Val Loss: 8.4443 Val Acc: 2.35% Val Precision: 2.35 Val Recall: 2.35 Val F1: 2.32\n",
            "\n"
          ]
        },
        {
          "name": "stderr",
          "output_type": "stream",
          "text": [
            "Epoch 12/12 [Train]: 100%|██████████| 335/335 [00:42<00:00,  7.95it/s, loss=0.0101]\n"
          ]
        },
        {
          "name": "stdout",
          "output_type": "stream",
          "text": [
            "\n",
            "Epoch 12 Train Loss: 0.0101 Acc: 100.00% Precision: 100.00 Recall: 100.00 F1: 100.00\n"
          ]
        },
        {
          "name": "stderr",
          "output_type": "stream",
          "text": [
            "                                                                                 \r"
          ]
        },
        {
          "name": "stdout",
          "output_type": "stream",
          "text": [
            "Epoch 12 Val Loss: 8.5721 Val Acc: 2.20% Val Precision: 2.22 Val Recall: 2.20 Val F1: 2.19\n",
            "\n"
          ]
        }
      ],
      "source": [
        "train_model_new(model, train_loader, val_loader, criterion, optimizer, device, num_epochs, patience=num_epochs)"
      ]
    },
    {
      "cell_type": "markdown",
      "metadata": {},
      "source": [
        "### **Lets Train our model again with the error being solved!!!**"
      ]
    },
    {
      "cell_type": "code",
      "execution_count": 41,
      "metadata": {
        "id": "9ssBI2EF8rLT"
      },
      "outputs": [
        {
          "name": "stderr",
          "output_type": "stream",
          "text": [
            "Epoch 1/12 [Train]: 100%|██████████| 335/335 [00:44<00:00,  7.58it/s, loss=2.86]\n"
          ]
        },
        {
          "name": "stdout",
          "output_type": "stream",
          "text": [
            "\n",
            "Epoch 1 Train Loss: 2.8587 Acc: 23.88% Precision: 25.71 Recall: 23.88 F1: 23.00\n"
          ]
        },
        {
          "name": "stderr",
          "output_type": "stream",
          "text": [
            "                                                                                \r"
          ]
        },
        {
          "name": "stdout",
          "output_type": "stream",
          "text": [
            "Epoch 1 Val Loss: 1.8208 Val Acc: 49.70% Val Precision: 54.66 Val Recall: 49.70 Val F1: 46.87\n",
            "\n"
          ]
        },
        {
          "name": "stderr",
          "output_type": "stream",
          "text": [
            "Epoch 2/12 [Train]: 100%|██████████| 335/335 [00:38<00:00,  8.67it/s, loss=1.5] \n"
          ]
        },
        {
          "name": "stdout",
          "output_type": "stream",
          "text": [
            "\n",
            "Epoch 2 Train Loss: 1.5027 Acc: 60.14% Precision: 58.63 Recall: 60.14 F1: 58.96\n"
          ]
        },
        {
          "name": "stderr",
          "output_type": "stream",
          "text": [
            "                                                                                \r"
          ]
        },
        {
          "name": "stdout",
          "output_type": "stream",
          "text": [
            "Epoch 2 Val Loss: 1.3019 Val Acc: 65.53% Val Precision: 67.04 Val Recall: 65.53 Val F1: 64.60\n",
            "\n"
          ]
        },
        {
          "name": "stderr",
          "output_type": "stream",
          "text": [
            "Epoch 3/12 [Train]: 100%|██████████| 335/335 [00:40<00:00,  8.18it/s, loss=1.22]\n"
          ]
        },
        {
          "name": "stdout",
          "output_type": "stream",
          "text": [
            "\n",
            "Epoch 3 Train Loss: 1.2159 Acc: 67.82% Precision: 67.52 Recall: 67.82 F1: 67.39\n"
          ]
        },
        {
          "name": "stderr",
          "output_type": "stream",
          "text": [
            "                                                                                \r"
          ]
        },
        {
          "name": "stdout",
          "output_type": "stream",
          "text": [
            "Epoch 3 Val Loss: 1.1454 Val Acc: 69.42% Val Precision: 70.41 Val Recall: 69.42 Val F1: 68.91\n",
            "\n"
          ]
        },
        {
          "name": "stderr",
          "output_type": "stream",
          "text": [
            "Epoch 4/12 [Train]: 100%|██████████| 335/335 [00:43<00:00,  7.70it/s, loss=0.97] \n"
          ]
        },
        {
          "name": "stdout",
          "output_type": "stream",
          "text": [
            "\n",
            "Epoch 4 Train Loss: 0.9704 Acc: 74.18% Precision: 74.16 Recall: 74.18 F1: 73.93\n"
          ]
        },
        {
          "name": "stderr",
          "output_type": "stream",
          "text": [
            "                                                                                \r"
          ]
        },
        {
          "name": "stdout",
          "output_type": "stream",
          "text": [
            "Epoch 4 Val Loss: 1.0738 Val Acc: 71.21% Val Precision: 73.80 Val Recall: 71.21 Val F1: 71.65\n",
            "\n"
          ]
        },
        {
          "name": "stderr",
          "output_type": "stream",
          "text": [
            "Epoch 5/12 [Train]: 100%|██████████| 335/335 [00:42<00:00,  7.97it/s, loss=0.874]\n"
          ]
        },
        {
          "name": "stdout",
          "output_type": "stream",
          "text": [
            "\n",
            "Epoch 5 Train Loss: 0.8744 Acc: 76.05% Precision: 75.91 Recall: 76.05 F1: 75.82\n"
          ]
        },
        {
          "name": "stderr",
          "output_type": "stream",
          "text": [
            "                                                                                 \r"
          ]
        },
        {
          "name": "stdout",
          "output_type": "stream",
          "text": [
            "Epoch 5 Val Loss: 1.0790 Val Acc: 71.62% Val Precision: 73.98 Val Recall: 71.62 Val F1: 71.81\n",
            "\n"
          ]
        },
        {
          "name": "stderr",
          "output_type": "stream",
          "text": [
            "Epoch 6/12 [Train]: 100%|██████████| 335/335 [00:44<00:00,  7.61it/s, loss=0.802]\n"
          ]
        },
        {
          "name": "stdout",
          "output_type": "stream",
          "text": [
            "\n",
            "Epoch 6 Train Loss: 0.8020 Acc: 78.28% Precision: 78.19 Recall: 78.28 F1: 78.09\n"
          ]
        },
        {
          "name": "stderr",
          "output_type": "stream",
          "text": [
            "                                                                                "
          ]
        },
        {
          "name": "stdout",
          "output_type": "stream",
          "text": [
            "Epoch 6 Val Loss: 1.1047 Val Acc: 72.14% Val Precision: 73.66 Val Recall: 72.14 Val F1: 72.26\n",
            "\n",
            "Early stopping at epoch 6\n"
          ]
        },
        {
          "name": "stderr",
          "output_type": "stream",
          "text": [
            "\r"
          ]
        }
      ],
      "source": [
        "train_model_new(model, train_loader, val_loader, criterion, optimizer, device, num_epochs, patience=2)"
      ]
    },
    {
      "cell_type": "markdown",
      "metadata": {},
      "source": [
        "### Lets optimise it a bit more\n",
        "**I asked ChatGPT how we can optimise it more, the following are the ways**\n",
        "\n",
        "- Better Learning Rate Scheduling :-\n",
        "\n",
        "Your current scheduler is StepLR — let’s try ReduceLROnPlateau which adapts based on validation loss or F1:\n",
        "```python\n",
        "scheduler = torch.optim.lr_scheduler.ReduceLROnPlateau(optimizer, mode='min', patience=2, factor=0.5, verbose=True)\n",
        "```\n",
        "\n",
        "- Use Weight decay\n",
        "```python \n",
        "optimizer = torch.optim.AdamW(model.parameters(), lr=1e-4, weight_decay=0.01)\n",
        "```\n",
        "\n",
        "- Add label Smoothing\n"
      ]
    },
    {
      "cell_type": "code",
      "execution_count": 42,
      "metadata": {},
      "outputs": [],
      "source": [
        "# Label Smoothing Loss\n",
        "class LabelSmoothingLoss(nn.Module):\n",
        "    def __init__(self, classes, smoothing=0.1):\n",
        "        super().__init__()\n",
        "        self.confidence = 1.0 - smoothing\n",
        "        self.smoothing = smoothing\n",
        "        self.classes = classes\n",
        "        self.kl_div = nn.KLDivLoss(reduction='batchmean')\n",
        "\n",
        "    def forward(self, pred, target):\n",
        "        pred = torch.log_softmax(pred, dim=-1)\n",
        "        true_dist = torch.zeros_like(pred).fill_(self.smoothing / (self.classes - 1))\n",
        "        true_dist.scatter_(1, target.data.unsqueeze(1), self.confidence)\n",
        "        return self.kl_div(pred, true_dist)"
      ]
    },
    {
      "cell_type": "markdown",
      "metadata": {},
      "source": [
        "### **Lets change the LR scheduler**"
      ]
    },
    {
      "cell_type": "code",
      "execution_count": 47,
      "metadata": {},
      "outputs": [],
      "source": [
        "def train_model_optimized(model, train_loader, val_loader, num_classes, device, num_epochs=10, patience=3):\n",
        "    scheduler = optim.lr_scheduler.ReduceLROnPlateau(optimizer, mode='max', factor=0.5, patience=2)\n",
        "\n",
        "    best_val_f1 = 0\n",
        "    patience_counter = 0\n",
        "\n",
        "    history = {\n",
        "        'train_loss': [], 'train_acc': [],\n",
        "        'val_loss': [], 'val_acc': []\n",
        "    }\n",
        "\n",
        "    for epoch in range(num_epochs):\n",
        "        # === Train Phase ===\n",
        "        model.train()\n",
        "        train_loss, all_preds, all_labels = 0.0, [], []\n",
        "\n",
        "        loop = tqdm(train_loader, desc=f\"Epoch {epoch+1}/{num_epochs} [Train]\")\n",
        "        for inputs, labels in loop:\n",
        "            inputs, labels = inputs.to(device), labels.to(device)\n",
        "\n",
        "            optimizer.zero_grad()\n",
        "            outputs = model(inputs)\n",
        "            loss = criterion(outputs, labels)\n",
        "            loss.backward()\n",
        "            torch.nn.utils.clip_grad_norm_(model.parameters(), max_norm=1.0)\n",
        "            optimizer.step()\n",
        "\n",
        "            preds = torch.argmax(outputs, dim=1)\n",
        "            all_preds.extend(preds.cpu().numpy())\n",
        "            all_labels.extend(labels.cpu().numpy())\n",
        "            train_loss += loss.item() * inputs.size(0)\n",
        "            loop.set_postfix(loss=train_loss/len(all_labels))\n",
        "\n",
        "        train_loss /= len(train_loader.dataset)\n",
        "        train_acc = accuracy_score(all_labels, all_preds)\n",
        "\n",
        "        history['train_loss'].append(train_loss)\n",
        "        history['train_acc'].append(train_acc)\n",
        "\n",
        "        print(f\"\\nEpoch {epoch+1} Train Loss: {train_loss:.4f} Acc: {train_acc*100:.2f}%\")\n",
        "\n",
        "        # === Validation Phase ===\n",
        "        model.eval()\n",
        "        val_loss, val_preds, val_labels = 0.0, [], []\n",
        "\n",
        "        with torch.no_grad():\n",
        "            loop = tqdm(val_loader, desc=f\"Epoch {epoch+1}/{num_epochs} [Val]\", leave=False)\n",
        "            for inputs, labels in loop:\n",
        "                inputs, labels = inputs.to(device), labels.to(device)\n",
        "                outputs = model(inputs)\n",
        "                loss = criterion(outputs, labels)\n",
        "\n",
        "                preds = torch.argmax(outputs, dim=1)\n",
        "                val_preds.extend(preds.cpu().numpy())\n",
        "                val_labels.extend(labels.cpu().numpy())\n",
        "                val_loss += loss.item() * inputs.size(0)\n",
        "\n",
        "        val_loss /= len(val_loader.dataset)\n",
        "        val_acc = accuracy_score(val_labels, val_preds)\n",
        "        val_precision, val_recall, val_f1, _ = precision_recall_fscore_support(\n",
        "            val_labels, val_preds, average='weighted', zero_division=0\n",
        "        )\n",
        "\n",
        "        history['val_loss'].append(val_loss)\n",
        "        history['val_acc'].append(val_acc)\n",
        "\n",
        "        print(f\"Epoch {epoch+1} Val Loss: {val_loss:.4f} Acc: {val_acc*100:.2f}% F1: {val_f1*100:.2f}\")\n",
        "\n",
        "        scheduler.step(val_f1)\n",
        "\n",
        "        # Early stopping on validation F1\n",
        "        if val_f1 > best_val_f1:\n",
        "            best_val_f1 = val_f1\n",
        "            torch.save(model.state_dict(), 'best_model.pt')\n",
        "            patience_counter = 0\n",
        "        else:\n",
        "            patience_counter += 1\n",
        "\n",
        "        if patience_counter >= patience:\n",
        "            print(f\"Early stopping at epoch {epoch+1}\")\n",
        "            break\n",
        "\n",
        "    print(f\"\\n✅ Best Val F1: {best_val_f1*100:.2f}\")\n",
        "    return history"
      ]
    },
    {
      "cell_type": "code",
      "execution_count": 48,
      "metadata": {},
      "outputs": [
        {
          "name": "stderr",
          "output_type": "stream",
          "text": [
            "Epoch 1/10 [Train]: 100%|██████████| 335/335 [01:25<00:00,  3.93it/s, loss=0.595]\n"
          ]
        },
        {
          "name": "stdout",
          "output_type": "stream",
          "text": [
            "\n",
            "Epoch 1 Train Loss: 0.5952 Acc: 84.30%\n"
          ]
        },
        {
          "name": "stderr",
          "output_type": "stream",
          "text": [
            "                                                                 \r"
          ]
        },
        {
          "name": "stdout",
          "output_type": "stream",
          "text": [
            "Epoch 1 Val Loss: 1.0295 Acc: 74.87% F1: 74.89\n"
          ]
        },
        {
          "name": "stderr",
          "output_type": "stream",
          "text": [
            "Epoch 2/10 [Train]: 100%|██████████| 335/335 [01:32<00:00,  3.64it/s, loss=0.461]\n"
          ]
        },
        {
          "name": "stdout",
          "output_type": "stream",
          "text": [
            "\n",
            "Epoch 2 Train Loss: 0.4614 Acc: 87.58%\n"
          ]
        },
        {
          "name": "stderr",
          "output_type": "stream",
          "text": [
            "                                                                 \r"
          ]
        },
        {
          "name": "stdout",
          "output_type": "stream",
          "text": [
            "Epoch 2 Val Loss: 1.0476 Acc: 74.91% F1: 74.88\n"
          ]
        },
        {
          "name": "stderr",
          "output_type": "stream",
          "text": [
            "Epoch 3/10 [Train]: 100%|██████████| 335/335 [01:37<00:00,  3.44it/s, loss=0.391]\n"
          ]
        },
        {
          "name": "stdout",
          "output_type": "stream",
          "text": [
            "\n",
            "Epoch 3 Train Loss: 0.3907 Acc: 89.52%\n"
          ]
        },
        {
          "name": "stderr",
          "output_type": "stream",
          "text": [
            "                                                                 \r"
          ]
        },
        {
          "name": "stdout",
          "output_type": "stream",
          "text": [
            "Epoch 3 Val Loss: 1.0766 Acc: 74.65% F1: 74.62\n"
          ]
        },
        {
          "name": "stderr",
          "output_type": "stream",
          "text": [
            "Epoch 4/10 [Train]: 100%|██████████| 335/335 [01:37<00:00,  3.42it/s, loss=0.339]\n"
          ]
        },
        {
          "name": "stdout",
          "output_type": "stream",
          "text": [
            "\n",
            "Epoch 4 Train Loss: 0.3388 Acc: 90.88%\n"
          ]
        },
        {
          "name": "stderr",
          "output_type": "stream",
          "text": [
            "                                                                 "
          ]
        },
        {
          "name": "stdout",
          "output_type": "stream",
          "text": [
            "Epoch 4 Val Loss: 1.1025 Acc: 74.50% F1: 74.67\n",
            "Early stopping at epoch 4\n",
            "\n",
            "✅ Best Val F1: 74.89\n"
          ]
        },
        {
          "name": "stderr",
          "output_type": "stream",
          "text": [
            "\r"
          ]
        }
      ],
      "source": [
        "model_training_1 = train_model_optimized(\n",
        "    model, train_loader, val_loader, num_classes=num_classes,\n",
        "    device=device, num_epochs=10, patience=3\n",
        ")"
      ]
    },
    {
      "cell_type": "markdown",
      "metadata": {},
      "source": [
        "**The model is overfitting**"
      ]
    },
    {
      "cell_type": "code",
      "execution_count": 49,
      "metadata": {},
      "outputs": [],
      "source": [
        "import matplotlib.pyplot as plt\n",
        "\n",
        "def plot_accuracy(train_acc, val_acc):\n",
        "    epochs = range(1, len(train_acc) + 1)\n",
        "    plt.figure(figsize=(8,5))\n",
        "    plt.plot(epochs, train_acc, 'b-', label='Training Accuracy')\n",
        "    plt.plot(epochs, val_acc, 'r-', label='Validation Accuracy')\n",
        "    plt.title('Training and Validation Accuracy')\n",
        "    plt.xlabel('Epoch')\n",
        "    plt.ylabel('Accuracy (%)')\n",
        "    plt.legend()\n",
        "    plt.grid(True)\n",
        "    plt.show()"
      ]
    },
    {
      "cell_type": "code",
      "execution_count": 53,
      "metadata": {},
      "outputs": [
        {
          "data": {
            "image/png": "[encoded data removed]",
            "text/plain": [
              "<Figure size 800x500 with 1 Axes>"
            ]
          },
          "metadata": {},
          "output_type": "display_data"
        }
      ],
      "source": [
        "plot_accuracy(\n",
        "    model_training_1['train_acc'], model_training_1['val_acc']\n",
        ")"
      ]
    },
    {
      "cell_type": "markdown",
      "metadata": {},
      "source": [
        "### Using Label Smoothing and weight decay in optimizer"
      ]
    },
    {
      "cell_type": "code",
      "execution_count": null,
      "metadata": {},
      "outputs": [],
      "source": [
        "def train_model_optimized(model, train_loader, val_loader, num_classes, device, num_epochs=10, patience=3):\n",
        "    criterion = LabelSmoothingLoss(classes=num_classes, smoothing=0.1).to(device)\n",
        "    optimizer = optim.AdamW(model.parameters(), lr=1e-3, weight_decay=1e-4)\n",
        "    scheduler = optim.lr_scheduler.ReduceLROnPlateau(optimizer, mode='max', factor=0.5, patience=2)\n",
        "\n",
        "    best_val_f1 = 0\n",
        "    patience_counter = 0\n",
        "\n",
        "    history = {\n",
        "        'train_loss': [], 'train_acc': [],\n",
        "        'val_loss': [], 'val_acc': []\n",
        "    }\n",
        "\n",
        "    for epoch in range(num_epochs):\n",
        "        # === Train Phase ===\n",
        "        model.train()\n",
        "        train_loss, all_preds, all_labels = 0.0, [], []\n",
        "\n",
        "        loop = tqdm(train_loader, desc=f\"Epoch {epoch+1}/{num_epochs} [Train]\")\n",
        "        for inputs, labels in loop:\n",
        "            inputs, labels = inputs.to(device), labels.to(device)\n",
        "\n",
        "            optimizer.zero_grad()\n",
        "            outputs = model(inputs)\n",
        "            loss = criterion(outputs, labels)\n",
        "            loss.backward()\n",
        "            torch.nn.utils.clip_grad_norm_(model.parameters(), max_norm=1.0)\n",
        "            optimizer.step()\n",
        "\n",
        "            preds = torch.argmax(outputs, dim=1)\n",
        "            all_preds.extend(preds.cpu().numpy())\n",
        "            all_labels.extend(labels.cpu().numpy())\n",
        "            train_loss += loss.item() * inputs.size(0)\n",
        "            loop.set_postfix(loss=train_loss/len(all_labels))\n",
        "\n",
        "        train_loss /= len(train_loader.dataset)\n",
        "        train_acc = accuracy_score(all_labels, all_preds)\n",
        "\n",
        "        history['train_loss'].append(train_loss)\n",
        "        history['train_acc'].append(train_acc)\n",
        "\n",
        "        print(f\"\\nEpoch {epoch+1} Train Loss: {train_loss:.4f} Acc: {train_acc*100:.2f}%\")\n",
        "\n",
        "        # === Validation Phase ===\n",
        "        model.eval()\n",
        "        val_loss, val_preds, val_labels = 0.0, [], []\n",
        "\n",
        "        with torch.no_grad():\n",
        "            loop = tqdm(val_loader, desc=f\"Epoch {epoch+1}/{num_epochs} [Val]\", leave=False)\n",
        "            for inputs, labels in loop:\n",
        "                inputs, labels = inputs.to(device), labels.to(device)\n",
        "                outputs = model(inputs)\n",
        "                loss = criterion(outputs, labels)\n",
        "\n",
        "                preds = torch.argmax(outputs, dim=1)\n",
        "                val_preds.extend(preds.cpu().numpy())\n",
        "                val_labels.extend(labels.cpu().numpy())\n",
        "                val_loss += loss.item() * inputs.size(0)\n",
        "\n",
        "        val_loss /= len(val_loader.dataset)\n",
        "        val_acc = accuracy_score(val_labels, val_preds)\n",
        "        val_precision, val_recall, val_f1, _ = precision_recall_fscore_support(\n",
        "            val_labels, val_preds, average='weighted', zero_division=0\n",
        "        )\n",
        "\n",
        "        history['val_loss'].append(val_loss)\n",
        "        history['val_acc'].append(val_acc)\n",
        "\n",
        "        print(f\"Epoch {epoch+1} Val Loss: {val_loss:.4f} Acc: {val_acc*100:.2f}% F1: {val_f1*100:.2f}\")\n",
        "\n",
        "        scheduler.step(val_f1)\n",
        "\n",
        "        # Early stopping on validation F1\n",
        "        if val_f1 > best_val_f1:\n",
        "            best_val_f1 = val_f1\n",
        "            torch.save(model.state_dict(), 'best_model.pt')\n",
        "            patience_counter = 0\n",
        "        else:\n",
        "            patience_counter += 1\n",
        "\n",
        "        if patience_counter >= patience:\n",
        "            print(f\"Early stopping at epoch {epoch+1}\")\n",
        "            break\n",
        "\n",
        "    print(f\"\\n✅ Best Val F1: {best_val_f1*100:.2f}\")\n",
        "    return history"
      ]
    },
    {
      "cell_type": "markdown",
      "metadata": {},
      "source": [
        "### **The model is not overfitting but could not achieve better accuracy**"
      ]
    },
    {
      "cell_type": "code",
      "execution_count": 45,
      "metadata": {},
      "outputs": [
        {
          "name": "stderr",
          "output_type": "stream",
          "text": [
            "Epoch 1/20 [Train]: 100%|██████████| 335/335 [00:41<00:00,  8.02it/s, loss=1.01]\n"
          ]
        },
        {
          "name": "stdout",
          "output_type": "stream",
          "text": [
            "\n",
            "Epoch 1 Train Loss: 1.0123 Acc: 68.62%\n"
          ]
        },
        {
          "name": "stderr",
          "output_type": "stream",
          "text": [
            "                                                                 \r"
          ]
        },
        {
          "name": "stdout",
          "output_type": "stream",
          "text": [
            "Epoch 1 Val Loss: 1.0608 Acc: 68.37% F1: 68.02\n"
          ]
        },
        {
          "name": "stderr",
          "output_type": "stream",
          "text": [
            "Epoch 2/20 [Train]: 100%|██████████| 335/335 [00:46<00:00,  7.21it/s, loss=0.935]\n"
          ]
        },
        {
          "name": "stdout",
          "output_type": "stream",
          "text": [
            "\n",
            "Epoch 2 Train Loss: 0.9351 Acc: 70.79%\n"
          ]
        },
        {
          "name": "stderr",
          "output_type": "stream",
          "text": [
            "                                                                 \r"
          ]
        },
        {
          "name": "stdout",
          "output_type": "stream",
          "text": [
            "Epoch 2 Val Loss: 1.0088 Acc: 68.97% F1: 68.98\n"
          ]
        },
        {
          "name": "stderr",
          "output_type": "stream",
          "text": [
            "Epoch 3/20 [Train]: 100%|██████████| 335/335 [00:49<00:00,  6.81it/s, loss=0.88] \n"
          ]
        },
        {
          "name": "stdout",
          "output_type": "stream",
          "text": [
            "\n",
            "Epoch 3 Train Loss: 0.8802 Acc: 72.31%\n"
          ]
        },
        {
          "name": "stderr",
          "output_type": "stream",
          "text": [
            "                                                                 \r"
          ]
        },
        {
          "name": "stdout",
          "output_type": "stream",
          "text": [
            "Epoch 3 Val Loss: 1.0024 Acc: 68.89% F1: 69.37\n"
          ]
        },
        {
          "name": "stderr",
          "output_type": "stream",
          "text": [
            "Epoch 4/20 [Train]: 100%|██████████| 335/335 [00:54<00:00,  6.10it/s, loss=0.842]\n"
          ]
        },
        {
          "name": "stdout",
          "output_type": "stream",
          "text": [
            "\n",
            "Epoch 4 Train Loss: 0.8424 Acc: 72.92%\n"
          ]
        },
        {
          "name": "stderr",
          "output_type": "stream",
          "text": [
            "                                                                 \r"
          ]
        },
        {
          "name": "stdout",
          "output_type": "stream",
          "text": [
            "Epoch 4 Val Loss: 0.9912 Acc: 69.42% F1: 68.90\n"
          ]
        },
        {
          "name": "stderr",
          "output_type": "stream",
          "text": [
            "Epoch 5/20 [Train]: 100%|██████████| 335/335 [00:59<00:00,  5.61it/s, loss=0.827]\n"
          ]
        },
        {
          "name": "stdout",
          "output_type": "stream",
          "text": [
            "\n",
            "Epoch 5 Train Loss: 0.8273 Acc: 73.45%\n"
          ]
        },
        {
          "name": "stderr",
          "output_type": "stream",
          "text": [
            "                                                                 \r"
          ]
        },
        {
          "name": "stdout",
          "output_type": "stream",
          "text": [
            "Epoch 5 Val Loss: 1.0275 Acc: 67.59% F1: 67.77\n"
          ]
        },
        {
          "name": "stderr",
          "output_type": "stream",
          "text": [
            "Epoch 6/20 [Train]: 100%|██████████| 335/335 [01:02<00:00,  5.34it/s, loss=0.795]\n"
          ]
        },
        {
          "name": "stdout",
          "output_type": "stream",
          "text": [
            "\n",
            "Epoch 6 Train Loss: 0.7946 Acc: 74.45%\n"
          ]
        },
        {
          "name": "stderr",
          "output_type": "stream",
          "text": [
            "                                                                 \r"
          ]
        },
        {
          "name": "stdout",
          "output_type": "stream",
          "text": [
            "Epoch 6 Val Loss: 0.9965 Acc: 70.28% F1: 70.73\n"
          ]
        },
        {
          "name": "stderr",
          "output_type": "stream",
          "text": [
            "Epoch 7/20 [Train]: 100%|██████████| 335/335 [01:05<00:00,  5.14it/s, loss=0.757]\n"
          ]
        },
        {
          "name": "stdout",
          "output_type": "stream",
          "text": [
            "\n",
            "Epoch 7 Train Loss: 0.7573 Acc: 75.61%\n"
          ]
        },
        {
          "name": "stderr",
          "output_type": "stream",
          "text": [
            "                                                                 \r"
          ]
        },
        {
          "name": "stdout",
          "output_type": "stream",
          "text": [
            "Epoch 7 Val Loss: 1.0153 Acc: 68.78% F1: 69.14\n"
          ]
        },
        {
          "name": "stderr",
          "output_type": "stream",
          "text": [
            "Epoch 8/20 [Train]: 100%|██████████| 335/335 [01:12<00:00,  4.60it/s, loss=0.746]\n"
          ]
        },
        {
          "name": "stdout",
          "output_type": "stream",
          "text": [
            "\n",
            "Epoch 8 Train Loss: 0.7464 Acc: 75.41%\n"
          ]
        },
        {
          "name": "stderr",
          "output_type": "stream",
          "text": [
            "                                                                 \r"
          ]
        },
        {
          "name": "stdout",
          "output_type": "stream",
          "text": [
            "Epoch 8 Val Loss: 1.0065 Acc: 69.72% F1: 69.72\n"
          ]
        },
        {
          "name": "stderr",
          "output_type": "stream",
          "text": [
            "Epoch 9/20 [Train]: 100%|██████████| 335/335 [01:16<00:00,  4.38it/s, loss=0.729]\n"
          ]
        },
        {
          "name": "stdout",
          "output_type": "stream",
          "text": [
            "\n",
            "Epoch 9 Train Loss: 0.7286 Acc: 76.46%\n"
          ]
        },
        {
          "name": "stderr",
          "output_type": "stream",
          "text": [
            "                                                                 \r"
          ]
        },
        {
          "name": "stdout",
          "output_type": "stream",
          "text": [
            "Epoch 9 Val Loss: 0.9286 Acc: 71.32% F1: 71.37\n"
          ]
        },
        {
          "name": "stderr",
          "output_type": "stream",
          "text": [
            "Epoch 10/20 [Train]: 100%|██████████| 335/335 [01:22<00:00,  4.08it/s, loss=0.723]\n"
          ]
        },
        {
          "name": "stdout",
          "output_type": "stream",
          "text": [
            "\n",
            "Epoch 10 Train Loss: 0.7226 Acc: 76.35%\n"
          ]
        },
        {
          "name": "stderr",
          "output_type": "stream",
          "text": [
            "                                                                  \r"
          ]
        },
        {
          "name": "stdout",
          "output_type": "stream",
          "text": [
            "Epoch 10 Val Loss: 0.9827 Acc: 69.75% F1: 69.47\n"
          ]
        },
        {
          "name": "stderr",
          "output_type": "stream",
          "text": [
            "Epoch 11/20 [Train]: 100%|██████████| 335/335 [01:23<00:00,  4.03it/s, loss=0.69] \n"
          ]
        },
        {
          "name": "stdout",
          "output_type": "stream",
          "text": [
            "\n",
            "Epoch 11 Train Loss: 0.6898 Acc: 77.23%\n"
          ]
        },
        {
          "name": "stderr",
          "output_type": "stream",
          "text": [
            "                                                                  \r"
          ]
        },
        {
          "name": "stdout",
          "output_type": "stream",
          "text": [
            "Epoch 11 Val Loss: 0.9443 Acc: 71.25% F1: 70.80\n"
          ]
        },
        {
          "name": "stderr",
          "output_type": "stream",
          "text": [
            "Epoch 12/20 [Train]: 100%|██████████| 335/335 [01:31<00:00,  3.67it/s, loss=0.68] \n"
          ]
        },
        {
          "name": "stdout",
          "output_type": "stream",
          "text": [
            "\n",
            "Epoch 12 Train Loss: 0.6802 Acc: 77.65%\n"
          ]
        },
        {
          "name": "stderr",
          "output_type": "stream",
          "text": [
            "                                                                  "
          ]
        },
        {
          "name": "stdout",
          "output_type": "stream",
          "text": [
            "Epoch 12 Val Loss: 0.9479 Acc: 70.13% F1: 70.38\n",
            "Early stopping at epoch 12\n",
            "\n",
            "✅ Best Val F1: 71.37\n"
          ]
        },
        {
          "name": "stderr",
          "output_type": "stream",
          "text": [
            "\r"
          ]
        }
      ],
      "source": [
        "model_training = train_model_optimized(\n",
        "    model, train_loader, val_loader, num_classes=num_classes,\n",
        "    device=device, num_epochs=20, patience=3\n",
        ")"
      ]
    },
    {
      "cell_type": "code",
      "execution_count": null,
      "metadata": {},
      "outputs": [],
      "source": []
    }
  ],
  "metadata": {
    "colab": {
      "provenance": []
    },
    "kernelspec": {
      "display_name": "Python 3",
      "name": "python3"
    },
    "language_info": {
      "codemirror_mode": {
        "name": "ipython",
        "version": 3
      },
      "file_extension": ".py",
      "mimetype": "text/x-python",
      "name": "python",
      "nbconvert_exporter": "python",
      "pygments_lexer": "ipython3",
      "version": "3.12.7"
    }
  },
  "nbformat": 4,
  "nbformat_minor": 0
}
